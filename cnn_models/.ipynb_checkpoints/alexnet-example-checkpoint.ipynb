{
 "cells": [
  {
   "cell_type": "markdown",
   "metadata": {},
   "source": [
    "# Package Load"
   ]
  },
  {
   "cell_type": "code",
   "execution_count": 1,
   "metadata": {
    "collapsed": true
   },
   "outputs": [],
   "source": [
    "import preprocessing\n",
    "import tensorflow as tf\n",
    "import numpy as np\n",
    "import random\n",
    "import sys\n",
    "import utils\n",
    "import pickle\n",
    "\n",
    "# preprocessing : 이미지 파일로 존재하는 데이터를 numpy와 onehotencoding 라벨로 바꿔주는 모듈\n",
    "# tensorflow : 텐서플로우 , 일반적으로 tf로 줄여서 사용\n",
    "# numpy : fundamental package for scientific computing with Python\n",
    "# pickle : python 의 데이터 형식을 그대로 저장하기 위한 파이썬 기본 패키지"
   ]
  },
  {
   "cell_type": "markdown",
   "metadata": {},
   "source": [
    "# Image Loading"
   ]
  },
  {
   "cell_type": "code",
   "execution_count": 3,
   "metadata": {},
   "outputs": [],
   "source": [
    "# 이미지 파일이 있는 폴더를 parameter 로 입력\n",
    "train_imgs , train_labs =preprocessing.get_imagenet_data(\"/home/mediwhale-3/imagenet\",1000)\n",
    "\n",
    "\n",
    "def next_batch(imgs , labs , batch_size):\n",
    "    indices=random.sample(range(len(imgs)) , batch_size)\n",
    "    batch_xs=imgs[indices]\n",
    "    batch_ys=labs[indices]\n",
    "    return batch_xs , batch_ys\n",
    "\n",
    "# preprocessing 모듈에서 train_imgs , train_labs , test_imgs , test_labs 를 불러 온다.\n",
    "# fully connected 모델을 위해 32x32x3 크기의 이미지를 3072 으로 reshape 한다.\n",
    "# next_batch 함수는 batch_size 수 만큼 random 으로 추출하여 train batch 를 생성하는 함수"
   ]
  },
  {
   "cell_type": "markdown",
   "metadata": {},
   "source": [
    "# Set Placeholder And Variables"
   ]
  },
  {
   "cell_type": "code",
   "execution_count": 4,
   "metadata": {},
   "outputs": [],
   "source": [
    "height = 224\n",
    "width = 224\n",
    "color_ch=3\n",
    "n_classes = 1000\n",
    "learning_rate=0.001\n",
    "max_iter=10000\n",
    "check_point=100\n",
    "x_ =tf.placeholder(tf.float32, [ None , height , width , color_ch ])\n",
    "y_ =tf.placeholder( tf.int32 , [ None , n_classes ])\n",
    "\n",
    "# Placeholder 는 차후에 입력할 값\n",
    "# Variables 는 weight 로 학습시 변하는 값"
   ]
  },
  {
   "cell_type": "markdown",
   "metadata": {},
   "source": [
    "# Network Modeling"
   ]
  },
  {
   "cell_type": "code",
   "execution_count": 5,
   "metadata": {},
   "outputs": [],
   "source": [
    "# layer 1\n",
    "\n",
    "w1 = tf.get_variable(\"filter_w1\" , [11,11,3,96] , initializer=tf.contrib.layers.xavier_initializer())\n",
    "layer1 = layer1=tf.nn.conv2d(x_ , w1 , [1,4,4,1],\"SAME\")\n",
    "layer1 = tf.nn.relu(layer1)\n",
    "\n",
    "layer1 = tf.nn.max_pool(layer1,ksize=[1,3,3,1],strides=[1,2,2,1],padding=\"SAME\")\n",
    "layer1 = tf.nn.local_response_normalization(layer1)\n",
    "\n",
    "w2 = tf.get_variable(\"filter_w2\" , [5,5,96,256] , initializer=tf.contrib.layers.xavier_initializer())\n",
    "layer2 = layer1=tf.nn.conv2d(layer1 , w2 , [1,1,1,1],\"SAME\")\n",
    "layer2 = tf.nn.relu(layer2)\n",
    "\n",
    "\n",
    "layer2 = tf.nn.max_pool(layer2,ksize=[1,3,3,1],strides=[1,2,2,1],padding=\"SAME\")\n",
    "layer2 = tf.nn.local_response_normalization(layer2)\n",
    "\n",
    "\n",
    "w3 = tf.get_variable(\"filter_w3\" , [3,3,256,384] , initializer=tf.contrib.layers.xavier_initializer())\n",
    "layer3 = layer1=tf.nn.conv2d(layer2 , w3 , [1,1,1,1],\"SAME\")\n",
    "layer3 = tf.nn.relu(layer3)\n",
    "\n",
    "w4 = tf.get_variable(\"filter_w4\" , [3,3,384,384] , initializer=tf.contrib.layers.xavier_initializer())\n",
    "layer4 = layer1=tf.nn.conv2d(layer3 , w4 , [1,1,1,1],\"SAME\")\n",
    "layer4 = tf.nn.relu(layer4)\n",
    "\n",
    "w5 = tf.get_variable(\"filter_w5\" , [3,3,384,256] , initializer=tf.contrib.layers.xavier_initializer())\n",
    "layer5 = layer1=tf.nn.conv2d(layer4 , w5 , [1,1,1,1],\"SAME\")\n",
    "layer5 = tf.nn.relu(layer5)\n",
    "\n",
    "layer5 = tf.nn.max_pool(layer5,ksize=[1,3,3,1],strides=[1,2,2,1],padding=\"SAME\")\n",
    "layer5 = tf.nn.local_response_normalization(layer5)\n",
    "\n",
    "\n",
    "parameters = layer5.get_shape()[1] * layer5.get_shape()[2] * layer5.get_shape()[3]\n",
    "layer5=tf.contrib.layers.flatten(layer5)\n",
    "\n",
    "w6 = tf.get_variable(\"fc_w6\" , [parameters,4096] , initializer=tf.contrib.layers.xavier_initializer())\n",
    "layer6 = tf.matmul(layer5,w6)\n",
    "layer6 = tf.nn.relu(layer6)\n",
    "\n",
    "w7 = tf.get_variable(\"fc_w7\" , [4096,4096] , initializer=tf.contrib.layers.xavier_initializer())\n",
    "layer7 = tf.matmul(layer6,w7)\n",
    "layer7 = tf.nn.relu(layer7)\n",
    "\n",
    "w8 = tf.get_variable(\"fc_w8\" , [4096,1000] , initializer=tf.contrib.layers.xavier_initializer())\n",
    "layer8 = tf.matmul(layer7,w8)\n",
    "layer8 = tf.nn.relu(layer8)\n",
    "\n",
    "end_layer = layer8\n",
    "\n",
    "# 4개의 convolution neural network 와 1개의 fully connected_layer 로 구성\n",
    "# 2개의 convolution layer 를 거친 후 각 각 max pooling 적용 / max pooling 후에는 activation map 의 가로 세로 크기가 절반이 된다.\n",
    "# stride : 좌우로 몇 칸 씩 커널을 이동 할 것인지에 대한 값\n",
    "# padding : convolution 전후로 activation map 의 크기를 조정하기 위한 값 , SAME 을 입력하면 항상 convolution 전후의 크기가 같다.\n",
    "# weight : [커널의 가로크기, 커널의 세로크기, input activation map 의 채널 크기, output activiation map 의 채널 크기]"
   ]
  },
  {
   "cell_type": "markdown",
   "metadata": {},
   "source": [
    "# Define Functions"
   ]
  },
  {
   "cell_type": "code",
   "execution_count": 6,
   "metadata": {
    "collapsed": true
   },
   "outputs": [],
   "source": [
    "pred=tf.nn.softmax(end_layer)\n",
    "cost = tf.reduce_mean(tf.nn.softmax_cross_entropy_with_logits(logits= pred , labels=y_) , name='cost')\n",
    "train=tf.train.GradientDescentOptimizer(learning_rate=learning_rate).minimize(cost,name='train')\n",
    "correct_pred = tf.equal(tf.argmax(pred, 1), tf.argmax(y_, 1), name='correct_pred')\n",
    "accuracy = tf.reduce_mean(tf.cast(correct_pred, dtype=tf.float32), name='accuracy')\n",
    "\n",
    "# softmax : 결과값을 각 class 에 해당하는 확률값을로 리턴\n",
    "# softmax_cross_entropy_with_logits : 실제 정답인 onehot vector 와 예측값 pred 를 차이를 cross_entropy 로 계산\n",
    "# tf.train.GradientDescentOptimizer : cost 가 최소와 되도록 weight를 조정하는 함수\n",
    "# accuracy : 실제 값과 예측값의 일치률"
   ]
  },
  {
   "cell_type": "markdown",
   "metadata": {},
   "source": [
    "# Training"
   ]
  },
  {
   "cell_type": "code",
   "execution_count": 7,
   "metadata": {},
   "outputs": [
    {
     "name": "stdout",
     "output_type": "stream",
     "text": [
      "982\n",
      "[428, 613, 377, 13, 507, 891, 68, 658, 954, 884, 164, 64, 632, 915, 777, 317, 873, 863, 395, 662]\n",
      "Epoch: 000/2000 train cost: 6.9078\n",
      "Epoch: 000/2000 train acc: 0.0015\n",
      "Epoch: 001/2000 train cost: 6.9078\n",
      "Epoch: 001/2000 train acc: 0.0010\n",
      "Epoch: 002/2000 train cost: 6.9078\n",
      "Epoch: 002/2000 train acc: 0.0010\n",
      "Epoch: 003/2000 train cost: 6.9078\n",
      "Epoch: 003/2000 train acc: 0.0010\n",
      "Epoch: 004/2000 train cost: 6.9078\n",
      "Epoch: 004/2000 train acc: 0.0005\n",
      "Epoch: 005/2000 train cost: 6.9078\n",
      "Epoch: 005/2000 train acc: 0.0010\n",
      "Epoch: 006/2000 train cost: 6.9078\n",
      "Epoch: 006/2000 train acc: 0.0010\n",
      "Epoch: 007/2000 train cost: 6.9078\n",
      "Epoch: 007/2000 train acc: 0.0020\n",
      "Epoch: 008/2000 train cost: 6.9078\n",
      "Epoch: 008/2000 train acc: 0.0000\n",
      "Epoch: 009/2000 train cost: 6.9078\n",
      "Epoch: 009/2000 train acc: 0.0000\n",
      "Epoch: 010/2000 train cost: 6.9078\n",
      "Epoch: 010/2000 train acc: 0.0010\n",
      "Epoch: 011/2000 train cost: 6.9078\n",
      "Epoch: 011/2000 train acc: 0.0010\n",
      "Epoch: 012/2000 train cost: 6.9078\n",
      "Epoch: 012/2000 train acc: 0.0010\n",
      "Epoch: 013/2000 train cost: 6.9078\n",
      "Epoch: 013/2000 train acc: 0.0005\n",
      "Epoch: 014/2000 train cost: 6.9078\n",
      "Epoch: 014/2000 train acc: 0.0010\n",
      "Epoch: 015/2000 train cost: 6.9078\n",
      "Epoch: 015/2000 train acc: 0.0010\n",
      "Epoch: 016/2000 train cost: 6.9078\n",
      "Epoch: 016/2000 train acc: 0.0010\n",
      "Epoch: 017/2000 train cost: 6.9078\n",
      "Epoch: 017/2000 train acc: 0.0015\n",
      "Epoch: 018/2000 train cost: 6.9078\n",
      "Epoch: 018/2000 train acc: 0.0010\n",
      "Epoch: 019/2000 train cost: 6.9078\n",
      "Epoch: 019/2000 train acc: 0.0010\n",
      "Epoch: 020/2000 train cost: 6.9078\n",
      "Epoch: 020/2000 train acc: 0.0015\n",
      "Epoch: 021/2000 train cost: 6.9078\n",
      "Epoch: 021/2000 train acc: 0.0000\n",
      "Epoch: 022/2000 train cost: 6.9078\n",
      "Epoch: 022/2000 train acc: 0.0005\n"
     ]
    },
    {
     "ename": "KeyboardInterrupt",
     "evalue": "",
     "output_type": "error",
     "traceback": [
      "\u001b[0;31m---------------------------------------------------------------------------\u001b[0m",
      "\u001b[0;31mKeyboardInterrupt\u001b[0m                         Traceback (most recent call last)",
      "\u001b[0;32m<ipython-input-7-03cc640979c1>\u001b[0m in \u001b[0;36m<module>\u001b[0;34m()\u001b[0m\n\u001b[1;32m     32\u001b[0m         \u001b[0mbatch_xs\u001b[0m \u001b[0;34m,\u001b[0m \u001b[0mbatch_ys\u001b[0m \u001b[0;34m=\u001b[0m \u001b[0mnext_batch\u001b[0m\u001b[0;34m(\u001b[0m\u001b[0mtrain_imgs\u001b[0m \u001b[0;34m,\u001b[0m \u001b[0mtrain_labs\u001b[0m \u001b[0;34m,\u001b[0m \u001b[0;36m20\u001b[0m\u001b[0;34m)\u001b[0m\u001b[0;34m\u001b[0m\u001b[0m\n\u001b[1;32m     33\u001b[0m \u001b[0;34m\u001b[0m\u001b[0m\n\u001b[0;32m---> 34\u001b[0;31m         \u001b[0msess\u001b[0m\u001b[0;34m.\u001b[0m\u001b[0mrun\u001b[0m\u001b[0;34m(\u001b[0m\u001b[0mtrain\u001b[0m\u001b[0;34m,\u001b[0m \u001b[0mfeed_dict\u001b[0m\u001b[0;34m=\u001b[0m\u001b[0;34m{\u001b[0m\u001b[0mx_\u001b[0m\u001b[0;34m:\u001b[0m\u001b[0mbatch_xs\u001b[0m \u001b[0;34m,\u001b[0m \u001b[0my_\u001b[0m \u001b[0;34m:\u001b[0m \u001b[0mbatch_ys\u001b[0m\u001b[0;34m}\u001b[0m\u001b[0;34m)\u001b[0m\u001b[0;34m\u001b[0m\u001b[0m\n\u001b[0m\u001b[1;32m     35\u001b[0m         \u001b[0mtrain_avg_cost\u001b[0m \u001b[0;34m+=\u001b[0m \u001b[0msess\u001b[0m\u001b[0;34m.\u001b[0m\u001b[0mrun\u001b[0m\u001b[0;34m(\u001b[0m\u001b[0mcost\u001b[0m\u001b[0;34m,\u001b[0m \u001b[0mfeed_dict\u001b[0m\u001b[0;34m=\u001b[0m\u001b[0;34m{\u001b[0m\u001b[0mx_\u001b[0m\u001b[0;34m:\u001b[0m\u001b[0mbatch_xs\u001b[0m \u001b[0;34m,\u001b[0m \u001b[0my_\u001b[0m \u001b[0;34m:\u001b[0m \u001b[0mbatch_ys\u001b[0m\u001b[0;34m}\u001b[0m\u001b[0;34m)\u001b[0m\u001b[0;34m\u001b[0m\u001b[0m\n\u001b[1;32m     36\u001b[0m         \u001b[0mtrain_avg_acc\u001b[0m \u001b[0;34m+=\u001b[0m \u001b[0msess\u001b[0m\u001b[0;34m.\u001b[0m\u001b[0mrun\u001b[0m\u001b[0;34m(\u001b[0m\u001b[0maccuracy\u001b[0m\u001b[0;34m,\u001b[0m \u001b[0mfeed_dict\u001b[0m\u001b[0;34m=\u001b[0m\u001b[0;34m{\u001b[0m\u001b[0mx_\u001b[0m\u001b[0;34m:\u001b[0m\u001b[0mbatch_xs\u001b[0m \u001b[0;34m,\u001b[0m \u001b[0my_\u001b[0m \u001b[0;34m:\u001b[0m \u001b[0mbatch_ys\u001b[0m\u001b[0;34m}\u001b[0m\u001b[0;34m)\u001b[0m\u001b[0;34m\u001b[0m\u001b[0m\n",
      "\u001b[0;32m/usr/local/lib/python2.7/dist-packages/tensorflow/python/client/session.pyc\u001b[0m in \u001b[0;36mrun\u001b[0;34m(self, fetches, feed_dict, options, run_metadata)\u001b[0m\n\u001b[1;32m    787\u001b[0m     \u001b[0;32mtry\u001b[0m\u001b[0;34m:\u001b[0m\u001b[0;34m\u001b[0m\u001b[0m\n\u001b[1;32m    788\u001b[0m       result = self._run(None, fetches, feed_dict, options_ptr,\n\u001b[0;32m--> 789\u001b[0;31m                          run_metadata_ptr)\n\u001b[0m\u001b[1;32m    790\u001b[0m       \u001b[0;32mif\u001b[0m \u001b[0mrun_metadata\u001b[0m\u001b[0;34m:\u001b[0m\u001b[0;34m\u001b[0m\u001b[0m\n\u001b[1;32m    791\u001b[0m         \u001b[0mproto_data\u001b[0m \u001b[0;34m=\u001b[0m \u001b[0mtf_session\u001b[0m\u001b[0;34m.\u001b[0m\u001b[0mTF_GetBuffer\u001b[0m\u001b[0;34m(\u001b[0m\u001b[0mrun_metadata_ptr\u001b[0m\u001b[0;34m)\u001b[0m\u001b[0;34m\u001b[0m\u001b[0m\n",
      "\u001b[0;32m/usr/local/lib/python2.7/dist-packages/tensorflow/python/client/session.pyc\u001b[0m in \u001b[0;36m_run\u001b[0;34m(self, handle, fetches, feed_dict, options, run_metadata)\u001b[0m\n\u001b[1;32m    995\u001b[0m     \u001b[0;32mif\u001b[0m \u001b[0mfinal_fetches\u001b[0m \u001b[0;32mor\u001b[0m \u001b[0mfinal_targets\u001b[0m\u001b[0;34m:\u001b[0m\u001b[0;34m\u001b[0m\u001b[0m\n\u001b[1;32m    996\u001b[0m       results = self._do_run(handle, final_targets, final_fetches,\n\u001b[0;32m--> 997\u001b[0;31m                              feed_dict_string, options, run_metadata)\n\u001b[0m\u001b[1;32m    998\u001b[0m     \u001b[0;32melse\u001b[0m\u001b[0;34m:\u001b[0m\u001b[0;34m\u001b[0m\u001b[0m\n\u001b[1;32m    999\u001b[0m       \u001b[0mresults\u001b[0m \u001b[0;34m=\u001b[0m \u001b[0;34m[\u001b[0m\u001b[0;34m]\u001b[0m\u001b[0;34m\u001b[0m\u001b[0m\n",
      "\u001b[0;32m/usr/local/lib/python2.7/dist-packages/tensorflow/python/client/session.pyc\u001b[0m in \u001b[0;36m_do_run\u001b[0;34m(self, handle, target_list, fetch_list, feed_dict, options, run_metadata)\u001b[0m\n\u001b[1;32m   1130\u001b[0m     \u001b[0;32mif\u001b[0m \u001b[0mhandle\u001b[0m \u001b[0;32mis\u001b[0m \u001b[0mNone\u001b[0m\u001b[0;34m:\u001b[0m\u001b[0;34m\u001b[0m\u001b[0m\n\u001b[1;32m   1131\u001b[0m       return self._do_call(_run_fn, self._session, feed_dict, fetch_list,\n\u001b[0;32m-> 1132\u001b[0;31m                            target_list, options, run_metadata)\n\u001b[0m\u001b[1;32m   1133\u001b[0m     \u001b[0;32melse\u001b[0m\u001b[0;34m:\u001b[0m\u001b[0;34m\u001b[0m\u001b[0m\n\u001b[1;32m   1134\u001b[0m       return self._do_call(_prun_fn, self._session, handle, feed_dict,\n",
      "\u001b[0;32m/usr/local/lib/python2.7/dist-packages/tensorflow/python/client/session.pyc\u001b[0m in \u001b[0;36m_do_call\u001b[0;34m(self, fn, *args)\u001b[0m\n\u001b[1;32m   1137\u001b[0m   \u001b[0;32mdef\u001b[0m \u001b[0m_do_call\u001b[0m\u001b[0;34m(\u001b[0m\u001b[0mself\u001b[0m\u001b[0;34m,\u001b[0m \u001b[0mfn\u001b[0m\u001b[0;34m,\u001b[0m \u001b[0;34m*\u001b[0m\u001b[0margs\u001b[0m\u001b[0;34m)\u001b[0m\u001b[0;34m:\u001b[0m\u001b[0;34m\u001b[0m\u001b[0m\n\u001b[1;32m   1138\u001b[0m     \u001b[0;32mtry\u001b[0m\u001b[0;34m:\u001b[0m\u001b[0;34m\u001b[0m\u001b[0m\n\u001b[0;32m-> 1139\u001b[0;31m       \u001b[0;32mreturn\u001b[0m \u001b[0mfn\u001b[0m\u001b[0;34m(\u001b[0m\u001b[0;34m*\u001b[0m\u001b[0margs\u001b[0m\u001b[0;34m)\u001b[0m\u001b[0;34m\u001b[0m\u001b[0m\n\u001b[0m\u001b[1;32m   1140\u001b[0m     \u001b[0;32mexcept\u001b[0m \u001b[0merrors\u001b[0m\u001b[0;34m.\u001b[0m\u001b[0mOpError\u001b[0m \u001b[0;32mas\u001b[0m \u001b[0me\u001b[0m\u001b[0;34m:\u001b[0m\u001b[0;34m\u001b[0m\u001b[0m\n\u001b[1;32m   1141\u001b[0m       \u001b[0mmessage\u001b[0m \u001b[0;34m=\u001b[0m \u001b[0mcompat\u001b[0m\u001b[0;34m.\u001b[0m\u001b[0mas_text\u001b[0m\u001b[0;34m(\u001b[0m\u001b[0me\u001b[0m\u001b[0;34m.\u001b[0m\u001b[0mmessage\u001b[0m\u001b[0;34m)\u001b[0m\u001b[0;34m\u001b[0m\u001b[0m\n",
      "\u001b[0;32m/usr/local/lib/python2.7/dist-packages/tensorflow/python/client/session.pyc\u001b[0m in \u001b[0;36m_run_fn\u001b[0;34m(session, feed_dict, fetch_list, target_list, options, run_metadata)\u001b[0m\n\u001b[1;32m   1119\u001b[0m         return tf_session.TF_Run(session, options,\n\u001b[1;32m   1120\u001b[0m                                  \u001b[0mfeed_dict\u001b[0m\u001b[0;34m,\u001b[0m \u001b[0mfetch_list\u001b[0m\u001b[0;34m,\u001b[0m \u001b[0mtarget_list\u001b[0m\u001b[0;34m,\u001b[0m\u001b[0;34m\u001b[0m\u001b[0m\n\u001b[0;32m-> 1121\u001b[0;31m                                  status, run_metadata)\n\u001b[0m\u001b[1;32m   1122\u001b[0m \u001b[0;34m\u001b[0m\u001b[0m\n\u001b[1;32m   1123\u001b[0m     \u001b[0;32mdef\u001b[0m \u001b[0m_prun_fn\u001b[0m\u001b[0;34m(\u001b[0m\u001b[0msession\u001b[0m\u001b[0;34m,\u001b[0m \u001b[0mhandle\u001b[0m\u001b[0;34m,\u001b[0m \u001b[0mfeed_dict\u001b[0m\u001b[0;34m,\u001b[0m \u001b[0mfetch_list\u001b[0m\u001b[0;34m)\u001b[0m\u001b[0;34m:\u001b[0m\u001b[0;34m\u001b[0m\u001b[0m\n",
      "\u001b[0;31mKeyboardInterrupt\u001b[0m: "
     ]
    }
   ],
   "source": [
    "sess=tf.Session()\n",
    "init=tf.global_variables_initializer()\n",
    "sess.run(init)\n",
    "saver = tf.train.Saver()\n",
    "\n",
    "batch_iteration = 100    \n",
    "training_epochs = 2000\n",
    "\n",
    "train_cost_list = []\n",
    "test_cost_list = []\n",
    "train_acc_list = []\n",
    "test_acc_list = []\n",
    "\n",
    "# Tensorflow 학습을 위한 session 정의\n",
    "# saver : 학습한 weight 와 graph 를 저장\n",
    "\n",
    "# sess.run 을 통해 함수를 실행 , feed_dict 는 placeholder 에 들어갈 값\n",
    "\n",
    "for epoch in range(training_epochs):\n",
    "    \n",
    "    train_avg_cost = 0.\n",
    "    train_avg_acc = 0.\n",
    "    test_avg_cost = 0.\n",
    "    test_avg_acc = 0.\n",
    "    \n",
    "    for batch in range(batch_iteration) :\n",
    "        batch_xs , batch_ys = next_batch(train_imgs , train_labs , 20)\n",
    "        \n",
    "        sess.run(train, feed_dict={x_:batch_xs , y_ : batch_ys})\n",
    "        train_avg_cost += sess.run(cost, feed_dict={x_:batch_xs , y_ : batch_ys})\n",
    "        train_avg_acc += sess.run(accuracy, feed_dict={x_:batch_xs , y_ : batch_ys})\n",
    "        \n",
    "    train_avg_cost = train_avg_cost / batch_iteration\n",
    "    train_avg_acc = train_avg_acc / batch_iteration\n",
    "    \n",
    "#     test_avg_cost = sess.run(cost, feed_dict={x_: test_imgs, y_: test_labs})\n",
    "#     test_avg_acc = sess.run(accuracy, feed_dict={x_: test_imgs, y_: test_labs})\n",
    "    \n",
    "    \n",
    "    print \"##################################\"\n",
    "    print (\"Epoch: %03d/%03d train cost: %.4f\" % (epoch, training_epochs, train_avg_cost))\n",
    "    print (\"Epoch: %03d/%03d train acc: %.4f\" % (epoch, training_epochs, train_avg_acc))\n",
    "#     print (\"Epoch: %03d/%03d test cost: %.4f\" % (epoch, training_epochs, test_avg_cost))\n",
    "#     print (\"Epoch: %03d/%03d test acc: %.4f\" % (epoch, training_epochs, test_avg_acc))    \n",
    "    \n",
    "#     train_cost_list.append(train_avg_cost)\n",
    "#     test_cost_list.append(test_avg_cost)\n",
    "#     train_acc_list.append(train_avg_acc)\n",
    "#     test_acc_list.append(test_avg_acc)\n",
    "   \n",
    "    \n",
    "    \n",
    "# saver.save(sess, \"model/cifar_deep_convolution.ckpt\")\n",
    "\n",
    "# with open('cost_acc/cifar_deep_convolution_train_cost', 'wb') as fp:\n",
    "#     pickle.dump(train_cost_list, fp)\n",
    "# with open('cost_acc/cifar_deep_convolution_test_cost', 'wb') as fp:\n",
    "#     pickle.dump(test_cost_list, fp)\n",
    "# with open('cost_acc/cifar_deep_convolution_train_acc', 'wb') as fp:\n",
    "#     pickle.dump(train_acc_list, fp)\n",
    "# with open('cost_acc/cifar_deep_convolution_test_acc', 'wb') as fp:\n",
    "#     pickle.dump(test_acc_list, fp)"
   ]
  },
  {
   "cell_type": "code",
   "execution_count": null,
   "metadata": {
    "collapsed": true
   },
   "outputs": [],
   "source": []
  }
 ],
 "metadata": {
  "kernelspec": {
   "display_name": "Python 2",
   "language": "python",
   "name": "python2"
  },
  "language_info": {
   "codemirror_mode": {
    "name": "ipython",
    "version": 2
   },
   "file_extension": ".py",
   "mimetype": "text/x-python",
   "name": "python",
   "nbconvert_exporter": "python",
   "pygments_lexer": "ipython2",
   "version": "2.7.12"
  }
 },
 "nbformat": 4,
 "nbformat_minor": 1
}
