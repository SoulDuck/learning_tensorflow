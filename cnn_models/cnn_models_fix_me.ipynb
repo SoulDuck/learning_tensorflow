{
 "cells": [
  {
   "cell_type": "markdown",
   "metadata": {},
   "source": [
    "# Package Load"
   ]
  },
  {
   "cell_type": "code",
   "execution_count": 1,
   "metadata": {
    "collapsed": true
   },
   "outputs": [],
   "source": [
    "import preprocessing\n",
    "import tensorflow as tf\n",
    "import numpy as np\n",
    "import random\n",
    "import sys\n",
    "import utils\n",
    "import pickle\n",
    "from IPython.display import Image\n",
    "# preprocessing : 이미지 파일로 존재하는 데이터를 numpy와 onehotencoding 라벨로 바꿔주는 모듈\n",
    "# tensorflow : 텐서플로우 , 일반적으로 tf로 줄여서 사용\n",
    "# numpy : fundamental package for scientific computing with Python\n",
    "# pickle : python 의 데이터 형식을 그대로 저장하기 위한 파이썬 기본 패키지"
   ]
  },
  {
   "cell_type": "markdown",
   "metadata": {},
   "source": [
    "# Image Loading"
   ]
  },
  {
   "cell_type": "code",
   "execution_count": 2,
   "metadata": {
    "collapsed": true
   },
   "outputs": [],
   "source": [
    "# 이미지 파일이 있는 폴더를 parameter 로 입력\n",
    "train_imgs , train_labs =preprocessing.get_imagenet_data(\"/home/mediwhale-3/imagenet\",1000)\n",
    "\n",
    "\n",
    "def next_batch(imgs , labs , batch_size):\n",
    "    indices=random.sample(range(len(imgs)) , batch_size)\n",
    "    batch_xs=imgs[indices]\n",
    "    batch_ys=labs[indices]\n",
    "    return batch_xs , batch_ys\n",
    "\n",
    "# preprocessing 모듈에서 train_imgs , train_labs , test_imgs , test_labs 를 불러 온다.\n",
    "# fully connected 모델을 위해 32x32x3 크기의 이미지를 3072 으로 reshape 한다.\n",
    "# next_batch 함수는 batch_size 수 만큼 random 으로 추출하여 train batch 를 생성하는 함수"
   ]
  },
  {
   "cell_type": "markdown",
   "metadata": {},
   "source": [
    "# Set Placeholder And Variables"
   ]
  },
  {
   "cell_type": "code",
   "execution_count": 3,
   "metadata": {
    "collapsed": true
   },
   "outputs": [],
   "source": [
    "height = 224\n",
    "width = 224\n",
    "color_ch=3\n",
    "n_classes = 1000\n",
    "learning_rate=0.001\n",
    "max_iter=10000\n",
    "check_point=100\n",
    "x_ =tf.placeholder(tf.float32, [ None , height , width , color_ch ])\n",
    "y_ =tf.placeholder( tf.int32 , [ None , n_classes ])\n",
    "\n",
    "# Placeholder 는 차후에 입력할 값\n",
    "# Variables 는 weight 로 학습시 변하는 값"
   ]
  },
  {
   "cell_type": "markdown",
   "metadata": {},
   "source": [
    "# Network Modeling"
   ]
  },
  {
   "cell_type": "code",
   "execution_count": 4,
   "metadata": {
    "collapsed": true
   },
   "outputs": [],
   "source": [
    "### fix me ###\n",
    "\n",
    "end_layer = ####\n"
   ]
  },
  {
   "cell_type": "markdown",
   "metadata": {},
   "source": [
    "# Define Functions"
   ]
  },
  {
   "cell_type": "code",
   "execution_count": null,
   "metadata": {
    "collapsed": true
   },
   "outputs": [],
   "source": [
    "pred=tf.nn.softmax(end_layer)\n",
    "cost = tf.reduce_mean(tf.nn.softmax_cross_entropy_with_logits(logits= pred , labels=y_) , name='cost')\n",
    "train=tf.train.GradientDescentOptimizer(learning_rate=learning_rate).minimize(cost,name='train')\n",
    "correct_pred = tf.equal(tf.argmax(pred, 1), tf.argmax(y_, 1), name='correct_pred')\n",
    "accuracy = tf.reduce_mean(tf.cast(correct_pred, dtype=tf.float32), name='accuracy')\n",
    "\n",
    "# softmax : 결과값을 각 class 에 해당하는 확률값을로 리턴\n",
    "# softmax_cross_entropy_with_logits : 실제 정답인 onehot vector 와 예측값 pred 를 차이를 cross_entropy 로 계산\n",
    "# tf.train.GradientDescentOptimizer : cost 가 최소와 되도록 weight를 조정하는 함수\n",
    "# accuracy : 실제 값과 예측값의 일치률"
   ]
  },
  {
   "cell_type": "markdown",
   "metadata": {},
   "source": [
    "# Training"
   ]
  },
  {
   "cell_type": "code",
   "execution_count": null,
   "metadata": {},
   "outputs": [
    {
     "name": "stdout",
     "output_type": "stream",
     "text": [
      "##################################\n",
      "Epoch: 000/2000 train cost: 6.9078\n",
      "Epoch: 000/2000 train acc: 0.0000\n",
      "##################################\n",
      "Epoch: 001/2000 train cost: 6.9078\n",
      "Epoch: 001/2000 train acc: 0.0000\n",
      "##################################\n",
      "Epoch: 002/2000 train cost: 6.9078\n",
      "Epoch: 002/2000 train acc: 0.0000\n",
      "##################################\n",
      "Epoch: 003/2000 train cost: 6.9078\n",
      "Epoch: 003/2000 train acc: 0.0000\n",
      "##################################\n",
      "Epoch: 004/2000 train cost: 6.9078\n",
      "Epoch: 004/2000 train acc: 0.0000\n",
      "##################################\n",
      "Epoch: 005/2000 train cost: 6.9078\n",
      "Epoch: 005/2000 train acc: 0.0000\n"
     ]
    }
   ],
   "source": [
    "sess=tf.Session()\n",
    "init=tf.global_variables_initializer()\n",
    "sess.run(init)\n",
    "saver = tf.train.Saver()\n",
    "\n",
    "batch_iteration = 100    \n",
    "training_epochs = 2000\n",
    "\n",
    "train_cost_list = []\n",
    "test_cost_list = []\n",
    "train_acc_list = []\n",
    "test_acc_list = []\n",
    "\n",
    "# Tensorflow 학습을 위한 session 정의\n",
    "# saver : 학습한 weight 와 graph 를 저장\n",
    "\n",
    "# sess.run 을 통해 함수를 실행 , feed_dict 는 placeholder 에 들어갈 값\n",
    "\n",
    "for epoch in range(training_epochs):\n",
    "    \n",
    "    train_avg_cost = 0.\n",
    "    train_avg_acc = 0.\n",
    "    test_avg_cost = 0.\n",
    "    test_avg_acc = 0.\n",
    "    \n",
    "    for batch in range(batch_iteration) :\n",
    "        batch_xs , batch_ys = next_batch(train_imgs , train_labs , 20)\n",
    "        \n",
    "        sess.run(train, feed_dict={x_:batch_xs , y_ : batch_ys})\n",
    "        train_avg_cost += sess.run(cost, feed_dict={x_:batch_xs , y_ : batch_ys})\n",
    "        train_avg_acc += sess.run(accuracy, feed_dict={x_:batch_xs , y_ : batch_ys})\n",
    "        \n",
    "    train_avg_cost = train_avg_cost / batch_iteration\n",
    "    train_avg_acc = train_avg_acc / batch_iteration\n",
    "    \n",
    "#     test_avg_cost = sess.run(cost, feed_dict={x_: test_imgs, y_: test_labs})\n",
    "#     test_avg_acc = sess.run(accuracy, feed_dict={x_: test_imgs, y_: test_labs})\n",
    "    \n",
    "    \n",
    "    print \"##################################\"\n",
    "    print (\"Epoch: %03d/%03d train cost: %.4f\" % (epoch, training_epochs, train_avg_cost))\n",
    "    print (\"Epoch: %03d/%03d train acc: %.4f\" % (epoch, training_epochs, train_avg_acc))\n",
    "#     print (\"Epoch: %03d/%03d test cost: %.4f\" % (epoch, training_epochs, test_avg_cost))\n",
    "#     print (\"Epoch: %03d/%03d test acc: %.4f\" % (epoch, training_epochs, test_avg_acc))    \n",
    "    \n",
    "#     train_cost_list.append(train_avg_cost)\n",
    "#     test_cost_list.append(test_avg_cost)\n",
    "#     train_acc_list.append(train_avg_acc)\n",
    "#     test_acc_list.append(test_avg_acc)\n",
    "   \n",
    "    \n",
    "    \n",
    "# saver.save(sess, \"model/cifar_deep_convolution.ckpt\")\n",
    "\n",
    "# with open('cost_acc/cifar_deep_convolution_train_cost', 'wb') as fp:\n",
    "#     pickle.dump(train_cost_list, fp)\n",
    "# with open('cost_acc/cifar_deep_convolution_test_cost', 'wb') as fp:\n",
    "#     pickle.dump(test_cost_list, fp)\n",
    "# with open('cost_acc/cifar_deep_convolution_train_acc', 'wb') as fp:\n",
    "#     pickle.dump(train_acc_list, fp)\n",
    "# with open('cost_acc/cifar_deep_convolution_test_acc', 'wb') as fp:\n",
    "#     pickle.dump(test_acc_list, fp)"
   ]
  },
  {
   "cell_type": "code",
   "execution_count": null,
   "metadata": {
    "collapsed": true
   },
   "outputs": [],
   "source": []
  }
 ],
 "metadata": {
  "kernelspec": {
   "display_name": "Python 2",
   "language": "python",
   "name": "python2"
  },
  "language_info": {
   "codemirror_mode": {
    "name": "ipython",
    "version": 2
   },
   "file_extension": ".py",
   "mimetype": "text/x-python",
   "name": "python",
   "nbconvert_exporter": "python",
   "pygments_lexer": "ipython2",
   "version": "2.7.12"
  }
 },
 "nbformat": 4,
 "nbformat_minor": 1
}
