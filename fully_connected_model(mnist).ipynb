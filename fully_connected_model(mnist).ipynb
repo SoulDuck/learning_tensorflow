{
 "cells": [
  {
   "cell_type": "markdown",
   "metadata": {},
   "source": [
    "# Package Load"
   ]
  },
  {
   "cell_type": "code",
   "execution_count": 4,
   "metadata": {},
   "outputs": [
    {
     "name": "stdout",
     "output_type": "stream",
     "text": [
      "Extracting MNIST_data/train-images-idx3-ubyte.gz\n",
      "Extracting MNIST_data/train-labels-idx1-ubyte.gz\n",
      "Extracting MNIST_data/t10k-images-idx3-ubyte.gz\n",
      "Extracting MNIST_data/t10k-labels-idx1-ubyte.gz\n"
     ]
    }
   ],
   "source": [
    "import tensorflow as tf\n",
    "import numpy as np\n",
    "from PIL import Image\n",
    "from preprocessing import *\n",
    "from tensorflow.examples.tutorials.mnist import input_data\n",
    "mnist = input_data.read_data_sets(\"MNIST_data/\", one_hot=True)"
   ]
  },
  {
   "cell_type": "markdown",
   "metadata": {},
   "source": [
    "# Image Loading"
   ]
  },
  {
   "cell_type": "code",
   "execution_count": 5,
   "metadata": {},
   "outputs": [
    {
     "name": "stdout",
     "output_type": "stream",
     "text": [
      "# of train data :  39999\n",
      "# of test data :  10001\n",
      "shape of train data :  (39999, 3072)\n",
      "shape of test data :  (10001, 3072)\n",
      "shape of train data :  (50000, 10)\n",
      "shape of test data :  (10001, 10)\n"
     ]
    }
   ],
   "source": [
    "# train_imgs, train_labs, test_imgs, test_labs=get_cifar()\n",
    "\n",
    "# train_ims = np.array(train_imgs) / float(255)\n",
    "# test_imgs = np.array(test_imgs) / float(255)\n"
   ]
  },
  {
   "cell_type": "code",
   "execution_count": null,
   "metadata": {
    "collapsed": true
   },
   "outputs": [],
   "source": []
  },
  {
   "cell_type": "markdown",
   "metadata": {},
   "source": [
    "# Set Placeholder And Variables"
   ]
  },
  {
   "cell_type": "code",
   "execution_count": 6,
   "metadata": {},
   "outputs": [],
   "source": [
    "X = tf.placeholder(\"float\", [None, 28*28],name=\"x\")\n",
    "Y = tf.placeholder(\"float\", [None, 10],name=\"y\")\n",
    "\n",
    "weight1 = tf.Variable(tf.random_normal([28*28,28*28], stddev=0.1),name=\"weight1\")\n",
    "weight2 = tf.Variable(tf.random_normal([28*28,28*14], stddev=0.1),name=\"weight2\")\n",
    "weight3 = tf.Variable(tf.random_normal([28*14,10], stddev=0.1),name=\"weight3\")\n",
    "\n",
    "bais1 = tf.Variable(tf.random_normal([28*28], stddev=0.1),name=\"bias1\")\n",
    "bais2 = tf.Variable(tf.random_normal([28*14], stddev=0.1),name=\"bias2\")\n",
    "bais3 = tf.Variable(tf.random_normal([10], stddev=0.1),name=\"bias3\")"
   ]
  },
  {
   "cell_type": "markdown",
   "metadata": {},
   "source": [
    "placeholder 는 차후에 입력할 값을 미리 설정\n"
   ]
  },
  {
   "cell_type": "markdown",
   "metadata": {},
   "source": [
    "variables 는 학습시에 변하는 weights 값"
   ]
  },
  {
   "cell_type": "markdown",
   "metadata": {},
   "source": [
    "# Network Modeling"
   ]
  },
  {
   "cell_type": "code",
   "execution_count": 7,
   "metadata": {
    "collapsed": true
   },
   "outputs": [],
   "source": [
    "layer1 = tf.add(tf.matmul(X,weight1),bais1)\n",
    "\n",
    "layer2 = tf.add(tf.matmul(layer1,weight2),bais2)\n",
    "\n",
    "layer3 = tf.add(tf.matmul(layer2,weight3),bais3)"
   ]
  },
  {
   "cell_type": "markdown",
   "metadata": {},
   "source": [
    "# Define Functions"
   ]
  },
  {
   "cell_type": "code",
   "execution_count": null,
   "metadata": {
    "collapsed": true
   },
   "outputs": [],
   "source": [
    "pred = tf.nn.softmax(layer3)\n",
    "\n",
    "cost = tf.reduce_mean(tf.nn.softmax_cross_entropy_with_logits(logits = pred,labels = Y))\n",
    "\n",
    "#optm = tf.train.AdamOptimizer(learning_rate=0.1).minimize(cost) \n",
    "optm = tf.train.GradientDescentOptimizer(learning_rate=0.01).minimize(cost)\n",
    "#optm = tf.train.MomentumOptimizer(learning_rate=0.01).minimize(cost)\n",
    "\n",
    "corr = tf.equal(tf.argmax(pred, 1), tf.argmax(Y, 1))    \n",
    "accr = tf.reduce_mean(tf.cast(corr, \"float\"))"
   ]
  },
  {
   "cell_type": "markdown",
   "metadata": {},
   "source": [
    "pred : Neural Network 를 거쳐 나온 값을 클래스에 해당 하는 확률로 변환\n",
    "\n",
    "cost : 실제 값과 예측값의 차이를 cross entropy 로 표현\n",
    "\n",
    "optm : cost 를 최소화하기 위한 optimizer 다양한 optimizer 가 존재\n",
    "\n",
    "corr,accr : 실제값과 예측값의 일치률을 계산"
   ]
  },
  {
   "cell_type": "markdown",
   "metadata": {},
   "source": [
    "# Training"
   ]
  },
  {
   "cell_type": "code",
   "execution_count": null,
   "metadata": {},
   "outputs": [
    {
     "name": "stdout",
     "output_type": "stream",
     "text": [
      "##################################\n",
      "Epoch: 000/10000 train cost: 1.9763\n",
      "Epoch: 000/10000 train acc: 0.4869\n",
      "Epoch: 000/10000 test cost: 0.0000\n",
      "Epoch: 000/10000 test acc: 0.6030\n",
      "##################################\n",
      "Epoch: 001/10000 train cost: 1.8401\n",
      "Epoch: 001/10000 train acc: 0.6232\n",
      "Epoch: 001/10000 test cost: 0.0000\n",
      "Epoch: 001/10000 test acc: 0.6447\n",
      "##################################\n",
      "Epoch: 002/10000 train cost: 1.7918\n",
      "Epoch: 002/10000 train acc: 0.6727\n",
      "Epoch: 002/10000 test cost: 0.0000\n",
      "Epoch: 002/10000 test acc: 0.6957\n",
      "##################################\n",
      "Epoch: 003/10000 train cost: 1.7563\n",
      "Epoch: 003/10000 train acc: 0.7094\n",
      "Epoch: 003/10000 test cost: 0.0000\n",
      "Epoch: 003/10000 test acc: 0.7078\n",
      "##################################\n",
      "Epoch: 004/10000 train cost: 1.7515\n",
      "Epoch: 004/10000 train acc: 0.7129\n",
      "Epoch: 004/10000 test cost: 0.0000\n",
      "Epoch: 004/10000 test acc: 0.7139\n",
      "##################################\n",
      "Epoch: 005/10000 train cost: 1.7437\n",
      "Epoch: 005/10000 train acc: 0.7210\n",
      "Epoch: 005/10000 test cost: 0.0000\n",
      "Epoch: 005/10000 test acc: 0.7156\n",
      "##################################\n",
      "Epoch: 006/10000 train cost: 1.7446\n",
      "Epoch: 006/10000 train acc: 0.7190\n",
      "Epoch: 006/10000 test cost: 0.0000\n",
      "Epoch: 006/10000 test acc: 0.7191\n",
      "##################################\n",
      "Epoch: 007/10000 train cost: 1.7360\n",
      "Epoch: 007/10000 train acc: 0.7278\n",
      "Epoch: 007/10000 test cost: 0.0000\n",
      "Epoch: 007/10000 test acc: 0.7197\n",
      "##################################\n",
      "Epoch: 008/10000 train cost: 1.7403\n",
      "Epoch: 008/10000 train acc: 0.7224\n",
      "Epoch: 008/10000 test cost: 0.0000\n",
      "Epoch: 008/10000 test acc: 0.7217\n",
      "##################################\n",
      "Epoch: 009/10000 train cost: 1.7361\n",
      "Epoch: 009/10000 train acc: 0.7265\n",
      "Epoch: 009/10000 test cost: 0.0000\n",
      "Epoch: 009/10000 test acc: 0.7228\n",
      "##################################\n",
      "Epoch: 010/10000 train cost: 1.7331\n",
      "Epoch: 010/10000 train acc: 0.7301\n",
      "Epoch: 010/10000 test cost: 0.0000\n",
      "Epoch: 010/10000 test acc: 0.7247\n",
      "##################################\n",
      "Epoch: 011/10000 train cost: 1.7327\n",
      "Epoch: 011/10000 train acc: 0.7305\n",
      "Epoch: 011/10000 test cost: 0.0000\n",
      "Epoch: 011/10000 test acc: 0.7253\n",
      "##################################\n",
      "Epoch: 012/10000 train cost: 1.7348\n",
      "Epoch: 012/10000 train acc: 0.7280\n",
      "Epoch: 012/10000 test cost: 0.0000\n",
      "Epoch: 012/10000 test acc: 0.7254\n",
      "##################################\n",
      "Epoch: 013/10000 train cost: 1.7258\n",
      "Epoch: 013/10000 train acc: 0.7372\n",
      "Epoch: 013/10000 test cost: 0.0000\n",
      "Epoch: 013/10000 test acc: 0.7263\n",
      "##################################\n",
      "Epoch: 014/10000 train cost: 1.7308\n",
      "Epoch: 014/10000 train acc: 0.7317\n",
      "Epoch: 014/10000 test cost: 0.0000\n",
      "Epoch: 014/10000 test acc: 0.7261\n",
      "##################################\n",
      "Epoch: 015/10000 train cost: 1.7332\n",
      "Epoch: 015/10000 train acc: 0.7289\n",
      "Epoch: 015/10000 test cost: 0.0000\n",
      "Epoch: 015/10000 test acc: 0.7277\n",
      "##################################\n",
      "Epoch: 016/10000 train cost: 1.7235\n",
      "Epoch: 016/10000 train acc: 0.7399\n",
      "Epoch: 016/10000 test cost: 0.0000\n",
      "Epoch: 016/10000 test acc: 0.7273\n",
      "##################################\n",
      "Epoch: 017/10000 train cost: 1.7292\n",
      "Epoch: 017/10000 train acc: 0.7325\n",
      "Epoch: 017/10000 test cost: 0.0000\n",
      "Epoch: 017/10000 test acc: 0.7272\n",
      "##################################\n",
      "Epoch: 018/10000 train cost: 1.7271\n",
      "Epoch: 018/10000 train acc: 0.7346\n",
      "Epoch: 018/10000 test cost: 0.0000\n",
      "Epoch: 018/10000 test acc: 0.7278\n",
      "##################################\n",
      "Epoch: 019/10000 train cost: 1.7257\n",
      "Epoch: 019/10000 train acc: 0.7362\n",
      "Epoch: 019/10000 test cost: 0.0000\n",
      "Epoch: 019/10000 test acc: 0.7281\n",
      "##################################\n",
      "Epoch: 020/10000 train cost: 1.7271\n",
      "Epoch: 020/10000 train acc: 0.7348\n",
      "Epoch: 020/10000 test cost: 0.0000\n",
      "Epoch: 020/10000 test acc: 0.7281\n",
      "##################################\n",
      "Epoch: 021/10000 train cost: 1.7265\n",
      "Epoch: 021/10000 train acc: 0.7354\n",
      "Epoch: 021/10000 test cost: 0.0000\n",
      "Epoch: 021/10000 test acc: 0.7290\n",
      "##################################\n",
      "Epoch: 022/10000 train cost: 1.7238\n",
      "Epoch: 022/10000 train acc: 0.7382\n",
      "Epoch: 022/10000 test cost: 0.0000\n",
      "Epoch: 022/10000 test acc: 0.7291\n",
      "##################################\n",
      "Epoch: 023/10000 train cost: 1.7253\n",
      "Epoch: 023/10000 train acc: 0.7369\n",
      "Epoch: 023/10000 test cost: 0.0000\n",
      "Epoch: 023/10000 test acc: 0.7277\n",
      "##################################\n",
      "Epoch: 024/10000 train cost: 1.7245\n",
      "Epoch: 024/10000 train acc: 0.7370\n",
      "Epoch: 024/10000 test cost: 0.0000\n",
      "Epoch: 024/10000 test acc: 0.7282\n",
      "##################################\n",
      "Epoch: 025/10000 train cost: 1.7242\n",
      "Epoch: 025/10000 train acc: 0.7380\n",
      "Epoch: 025/10000 test cost: 0.0000\n",
      "Epoch: 025/10000 test acc: 0.7289\n",
      "##################################\n",
      "Epoch: 026/10000 train cost: 1.7232\n",
      "Epoch: 026/10000 train acc: 0.7386\n",
      "Epoch: 026/10000 test cost: 0.0000\n",
      "Epoch: 026/10000 test acc: 0.7293\n",
      "##################################\n",
      "Epoch: 027/10000 train cost: 1.7221\n",
      "Epoch: 027/10000 train acc: 0.7394\n",
      "Epoch: 027/10000 test cost: 0.0000\n",
      "Epoch: 027/10000 test acc: 0.7292\n",
      "##################################\n",
      "Epoch: 028/10000 train cost: 1.7240\n",
      "Epoch: 028/10000 train acc: 0.7381\n",
      "Epoch: 028/10000 test cost: 0.0000\n",
      "Epoch: 028/10000 test acc: 0.7295\n",
      "##################################\n",
      "Epoch: 029/10000 train cost: 1.7215\n",
      "Epoch: 029/10000 train acc: 0.7403\n",
      "Epoch: 029/10000 test cost: 0.0000\n",
      "Epoch: 029/10000 test acc: 0.7303\n",
      "##################################\n",
      "Epoch: 030/10000 train cost: 1.7226\n",
      "Epoch: 030/10000 train acc: 0.7390\n",
      "Epoch: 030/10000 test cost: 0.0000\n",
      "Epoch: 030/10000 test acc: 0.7311\n",
      "##################################\n",
      "Epoch: 031/10000 train cost: 1.7204\n",
      "Epoch: 031/10000 train acc: 0.7417\n",
      "Epoch: 031/10000 test cost: 0.0000\n",
      "Epoch: 031/10000 test acc: 0.7307\n",
      "##################################\n",
      "Epoch: 032/10000 train cost: 1.7056\n",
      "Epoch: 032/10000 train acc: 0.7579\n",
      "Epoch: 032/10000 test cost: 0.0000\n",
      "Epoch: 032/10000 test acc: 0.7846\n",
      "##################################\n",
      "Epoch: 033/10000 train cost: 1.6624\n",
      "Epoch: 033/10000 train acc: 0.8042\n",
      "Epoch: 033/10000 test cost: 0.0000\n",
      "Epoch: 033/10000 test acc: 0.7995\n",
      "##################################\n",
      "Epoch: 034/10000 train cost: 1.6530\n",
      "Epoch: 034/10000 train acc: 0.8136\n",
      "Epoch: 034/10000 test cost: 0.0000\n",
      "Epoch: 034/10000 test acc: 0.8052\n",
      "##################################\n",
      "Epoch: 035/10000 train cost: 1.6492\n",
      "Epoch: 035/10000 train acc: 0.8172\n",
      "Epoch: 035/10000 test cost: 0.0000\n",
      "Epoch: 035/10000 test acc: 0.8082\n",
      "##################################\n",
      "Epoch: 036/10000 train cost: 1.6462\n",
      "Epoch: 036/10000 train acc: 0.8194\n",
      "Epoch: 036/10000 test cost: 0.0000\n",
      "Epoch: 036/10000 test acc: 0.8083\n",
      "##################################\n",
      "Epoch: 037/10000 train cost: 1.6449\n",
      "Epoch: 037/10000 train acc: 0.8210\n",
      "Epoch: 037/10000 test cost: 0.0000\n",
      "Epoch: 037/10000 test acc: 0.8103\n"
     ]
    }
   ],
   "source": [
    "training_epochs = 10000\n",
    "batch_size      = 100\n",
    "display_step    = 4\n",
    "\n",
    "init = tf.global_variables_initializer()\n",
    "sess = tf.Session()\n",
    "sess.run(init)\n",
    "\n",
    "batch_iteration = len(train_imgs)/batch_size -1\n",
    "\n",
    "for epoch in range(training_epochs):\n",
    "    \n",
    "    train_avg_cost = 0.\n",
    "    train_avg_acc = 0.\n",
    "    test_avg_cost = 0.\n",
    "    test_avg_acc = 0.\n",
    "    \n",
    "    for batch in range(batch_iteration) :\n",
    "        img_batch,label_batch = mnist.train.next_batch(batch_size)\n",
    "\n",
    "        sess.run(optm, feed_dict={X:img_batch,Y:label_batch})\n",
    "        train_avg_cost += sess.run(cost, feed_dict={X:img_batch,Y:label_batch})\n",
    "        train_avg_acc += sess.run(accr, feed_dict={X:img_batch,Y:label_batch})\n",
    "        \n",
    "    train_avg_cost = train_avg_cost / batch_iteration\n",
    "    train_avg_acc = train_avg_acc / batch_iteration\n",
    "    \n",
    "    test_cost = sess.run(cost, feed_dict={X: mnist.test.images, Y: mnist.test.labels})\n",
    "    test_avg_acc = sess.run(accr, feed_dict={X: mnist.test.images, Y: mnist.test.labels})\n",
    "    \n",
    "    \n",
    "    print \"##################################\"\n",
    "    print (\"Epoch: %03d/%03d train cost: %.4f\" % (epoch, training_epochs, train_avg_cost))\n",
    "    print (\"Epoch: %03d/%03d train acc: %.4f\" % (epoch, training_epochs, train_avg_acc))\n",
    "    print (\"Epoch: %03d/%03d test cost: %.4f\" % (epoch, training_epochs, test_avg_cost))\n",
    "    print (\"Epoch: %03d/%03d test acc: %.4f\" % (epoch, training_epochs, test_avg_acc))\n",
    "    \n",
    "    \n",
    "    "
   ]
  },
  {
   "cell_type": "code",
   "execution_count": null,
   "metadata": {
    "collapsed": true
   },
   "outputs": [],
   "source": []
  }
 ],
 "metadata": {
  "kernelspec": {
   "display_name": "Python 2",
   "language": "python",
   "name": "python2"
  },
  "language_info": {
   "codemirror_mode": {
    "name": "ipython",
    "version": 2
   },
   "file_extension": ".py",
   "mimetype": "text/x-python",
   "name": "python",
   "nbconvert_exporter": "python",
   "pygments_lexer": "ipython2",
   "version": "2.7.12"
  }
 },
 "nbformat": 4,
 "nbformat_minor": 1
}
