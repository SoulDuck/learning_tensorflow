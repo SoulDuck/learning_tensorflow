{
 "cells": [
  {
   "cell_type": "markdown",
   "metadata": {},
   "source": [
    "# Package Load"
   ]
  },
  {
   "cell_type": "code",
   "execution_count": 1,
   "metadata": {
    "collapsed": true
   },
   "outputs": [],
   "source": [
    "import tensorflow as tf\n",
    "import numpy as np\n",
    "from PIL import Image\n",
    "from preprocessing import *\n",
    "from os import listdir\n",
    "import csv"
   ]
  },
  {
   "cell_type": "code",
   "execution_count": null,
   "metadata": {},
   "outputs": [],
   "source": [
    "\n",
    "\n"
   ]
  },
  {
   "cell_type": "markdown",
   "metadata": {},
   "source": [
    "# Image Loading"
   ]
  },
  {
   "cell_type": "code",
   "execution_count": 2,
   "metadata": {},
   "outputs": [],
   "source": [
    "train_imgs, train_labs, test_imgs, test_labs=get_cifar_data()\n"
   ]
  },
  {
   "cell_type": "code",
   "execution_count": 3,
   "metadata": {},
   "outputs": [],
   "source": [
    "train_imgs = train_imgs.reshape((39999,3072))\n",
    "test_imgs = test_imgs.reshape((10001,3072))"
  },
  {
   "cell_type": "markdown",
   "metadata": {},
   "source": [
    "# Set Placeholder And Variables"
   ]
  },
  {
   "cell_type": "code",
   "execution_count": 4,
   "metadata": {
    "collapsed": true
   },
   "outputs": [],
   "source": [
    "\n",
    "X = tf.placeholder(\"float\", [None, 1024*3],name=\"x\")\n",
    "Y = tf.placeholder(\"float\", [None, 10],name=\"y\")\n",
    "\n",
    "weight1 = tf.Variable(tf.random_normal([32*32*3,32*32*3], stddev=0.1),name=\"weight1\")\n",
    "weight2 = tf.Variable(tf.random_normal([32*32*3,1024], stddev=0.1),name=\"weight2\")\n",
    "weight3 = tf.Variable(tf.random_normal([1024,10], stddev=0.1),name=\"weight3\")\n",
    "\n",
    "bais1 = tf.Variable(tf.random_normal([32*32*3], stddev=0.1),name=\"bias1\")\n",
    "bais2 = tf.Variable(tf.random_normal([1024], stddev=0.1),name=\"bias2\")\n",
    "bais3 = tf.Variable(tf.random_normal([10], stddev=0.1),name=\"bias3\")"
   ]
  },
  {
   "cell_type": "markdown",
   "metadata": {},
   "source": [
    "placeholder 는 차후에 입력할 값을 미리 설정\n"
   ]
  },
  {
   "cell_type": "markdown",
   "metadata": {},
   "source": [
    "variables 는 학습시에 변하는 weights 값"
   ]
  },
  {
   "cell_type": "markdown",
   "metadata": {},
   "source": [
    "# Network Modeling"
   ]
  },
  {
   "cell_type": "code",
   "execution_count": 5,
   "metadata": {},
   "outputs": [],
   "source": [
    "layer1 = tf.add(tf.matmul(X,weight1),bais1)\n",
    "\n",
    "layer2 = tf.add(tf.matmul(layer1,weight2),bais2)\n",
    "\n",
    "layer3 = tf.add(tf.matmul(layer2,weight3),bais3)"
   ]
  },
  {
   "cell_type": "markdown",
   "metadata": {},
   "source": [
    "# Define Functions"
   ]
  },
  {
   "cell_type": "code",
   "execution_count": 6,
   "metadata": {},
   "outputs": [],
   "source": [
    "pred = tf.nn.softmax(layer3)\n",
    "\n",
    "cost = tf.reduce_mean(tf.nn.softmax_cross_entropy_with_logits(logits = pred,labels = Y))\n",
    "\n",
    "#optm = tf.train.AdamOptimizer(learning_rate=0.1).minimize(cost) \n",
    "optm = tf.train.GradientDescentOptimizer(learning_rate=0.01).minimize(cost)\n",
    "#optm = tf.train.MomentumOptimizer(learning_rate=0.01).minimize(cost)\n",
    "\n",
    "corr = tf.equal(tf.argmax(pred, 1), tf.argmax(Y, 1))    \n",
    "accr = tf.reduce_mean(tf.cast(corr, \"float\"))"
   ]
  },
  {
   "cell_type": "markdown",
   "metadata": {},
   "source": [
    "pred : Neural Network 를 거쳐 나온 값을 클래스에 해당 하는 확률로 변환\n",
    "\n",
    "cost : 실제 값과 예측값의 차이를 cross entropy 로 표현\n",
    "\n",
    "optm : cost 를 최소화하기 위한 optimizer 다양한 optimizer 가 존재\n",
    "\n",
    "corr,accr : 실제값과 예측값의 일치률을 계산"
   ]
  },
  {
   "cell_type": "markdown",
   "metadata": {},
   "source": [
    "# Training"
   ]
  },
  {
   "cell_type": "code",
   "execution_count": null,
   "metadata": {},
   "outputs": [
    {
     "name": "stdout",
     "output_type": "stream",
     "text": [
      "##################################\n",
      "Epoch: 000/10000 train cost: 2.3528\n",
      "Epoch: 000/10000 train acc: 0.1078\n",
      "Epoch: 000/10000 test cost: 2.3522\n",
      "Epoch: 000/10000 test acc: 0.1085\n"
     ]
    }
   ],
   "source": [
    "training_epochs = 10000\n",
    "batch_size      = 100\n",
    "display_step    = 4\n",
    "\n",
    "init = tf.global_variables_initializer()\n",
    "sess = tf.Session()\n",
    "sess.run(init)\n",
    "\n",
    "batch_iteration = len(train_imgs)/batch_size -1\n",
    "\n",
    "for epoch in range(training_epochs):\n",
    "    \n",
    "    train_avg_cost = 0.\n",
    "    train_avg_acc = 0.\n",
    "    test_avg_cost = 0.\n",
    "    test_avg_acc = 0.\n",
    "    \n",
    "    for batch in range(batch_iteration) :\n",
    "        img_batch = train_imgs[batch*batch_size : (batch+1)*batch_size]\n",
    "        label_batch = train_labs[batch*batch_size : (batch+1)*batch_size]\n",
    "        sess.run(optm, feed_dict={X:img_batch,Y:label_batch})\n",
    "        train_avg_cost += sess.run(cost, feed_dict={X:img_batch,Y:label_batch})\n",
    "        train_avg_acc += sess.run(accr, feed_dict={X:img_batch,Y:label_batch})\n",
    "        \n",
    "    train_avg_cost = train_avg_cost / batch_iteration\n",
    "    train_avg_acc = train_avg_acc / batch_iteration\n",
    "    \n",
    "    test_avg_cost = sess.run(cost, feed_dict={X:test_imgs,Y:test_labs})\n",
    "    test_avg_acc = sess.run(accr, feed_dict={X:test_imgs,Y:test_labs})\n",
    "    \n",
    "    \n",
    "    print \"##################################\"\n",
    "    print (\"Epoch: %03d/%03d train cost: %.4f\" % (epoch, training_epochs, train_avg_cost))\n",
    "    print (\"Epoch: %03d/%03d train acc: %.4f\" % (epoch, training_epochs, train_avg_acc))\n",
    "    print (\"Epoch: %03d/%03d test cost: %.4f\" % (epoch, training_epochs, test_avg_cost))\n",
    "    print (\"Epoch: %03d/%03d test acc: %.4f\" % (epoch, training_epochs, test_avg_acc))\n",
    "    \n",
    "    \n",
    "    "
   ]
  },
  {
   "cell_type": "code",
   "execution_count": null,
   "metadata": {
    "collapsed": true
   },
   "outputs": [],
   "source": []
  }
 ],
 "metadata": {
  "kernelspec": {
   "display_name": "Python 2",
   "language": "python",
   "name": "python2"
  },
  "language_info": {
   "codemirror_mode": {
    "name": "ipython",
    "version": 2
   },
   "file_extension": ".py",
   "mimetype": "text/x-python",
   "name": "python",
   "nbconvert_exporter": "python",
   "pygments_lexer": "ipython2",
   "version": "2.7.12"
  }
 },
 "nbformat": 4,
 "nbformat_minor": 1
}
