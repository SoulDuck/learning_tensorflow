{
 "cells": [
  {
   "cell_type": "markdown",
   "metadata": {},
   "source": [
    "# Package Load"
   ]
  },
  {
   "cell_type": "code",
   "execution_count": 1,
   "metadata": {
    "collapsed": true
   },
   "outputs": [],
   "source": [
    "import preprocessing\n",
    "import tensorflow as tf\n",
    "import numpy as np\n",
    "import random\n",
    "import sys\n",
    "import utils\n",
    "import pickle\n",
    "\n",
    "# preprocessing : 이미지 파일로 존재하는 데이터를 numpy와 onehotencoding 라벨로 바꿔주는 모듈\n",
    "# tensorflow : 텐서플로우 , 일반적으로 tf로 줄여서 사용\n",
    "# numpy : fundamental package for scientific computing with Python\n",
    "# pickle : python 의 데이터 형식을 그대로 저장하기 위한 파이썬 기본 패키지\n"
   ]
  },
  {
   "cell_type": "markdown",
   "metadata": {},
   "source": [
    "# Image Loading"
   ]
  },
  {
   "cell_type": "code",
   "execution_count": 2,
   "metadata": {
    "collapsed": true
   },
   "outputs": [],
   "source": [
    "train_imgs , train_labs , test_imgs , test_labs=preprocessing.get_cifar_data()\n",
    "\n",
    "def next_batch(imgs , labs , batch_size):\n",
    "    indices=random.sample(range(len(imgs)) , batch_size)\n",
    "    batch_xs=imgs[indices]\n",
    "    batch_ys=labs[indices]\n",
    "    return batch_xs , batch_ys\n",
    "\n",
    "# preprocessing 모듈에서 train_imgs , train_labs , test_imgs , test_labs 를 불러 온다.\n",
    "# fully connected 모델을 위해 32x32x3 크기의 이미지를 3072 으로 reshape 한다.\n",
    "# next_batch 함수는 batch_size 수 만큼 random 으로 추출하여 train batch 를 생성하는 함수\n"
   ]
  },
  {
   "cell_type": "markdown",
   "metadata": {},
   "source": [
    "# Set Placeholder And Variables"
   ]
  },
  {
   "cell_type": "code",
   "execution_count": 3,
   "metadata": {
    "collapsed": true
   },
   "outputs": [],
   "source": [
    "\n",
    "height = 32\n",
    "width = 32\n",
    "color_ch=3\n",
    "n_classes = 10\n",
    "learning_rate=0.001\n",
    "max_iter=10000\n",
    "check_point=100\n",
    "x_ =tf.placeholder(tf.float32, [ None , height , width , color_ch ])\n",
    "y_ =tf.placeholder( tf.int32 , [ None , n_classes ])\n",
    "\n",
    "# Placeholder 는 차후에 입력할 값\n",
    "# Variables 는 weight 로 학습시 변하는 값\n"
   ]
  },
  {
   "cell_type": "markdown",
   "metadata": {},
   "source": [
    "# Network Modeling"
   ]
  },
  {
   "cell_type": "code",
   "execution_count": 4,
   "metadata": {
    "collapsed": true
   },
   "outputs": [],
   "source": [
    "out_ch=28\n",
    "w1=tf.get_variable(\"w1\" , [7,7,color_ch , out_ch] , initializer=tf.contrib.layers.xavier_initializer())\n",
    "b1=tf.Variable(tf.constant(0.1) ,out_ch)\n",
    "s1=[1,1,1,1]\n",
    "p1='SAME'\n",
    "layer1=tf.nn.conv2d(x_ , w1 , s1 , p1 )+b1\n",
    "layer1=tf.nn.relu(layer1)\n",
    "\n",
    "\n",
    "out_ch2=64\n",
    "w2=tf.get_variable(\"w2\" , [5,5,out_ch, out_ch2] , initializer=tf.contrib.layers.xavier_initializer())\n",
    "b2=tf.Variable(tf.constant(0.1) ,out_ch2)\n",
    "s2=[1,1,1,1]\n",
    "layer2=tf.nn.conv2d(layer1, w2 , s2, padding='SAME')+b2\n",
    "layer2=tf.nn.relu(layer2)\n",
    "#fully connected layer = affine layer\n",
    "\n",
    "end_conv_layer=layer2\n",
    "flatten_layer=tf.contrib.layers.flatten(end_conv_layer)\n",
    "length=flatten_layer.get_shape()[1]\n",
    "fc_w1=tf.get_variable(\"fc_w1\" ,[length,n_classes])\n",
    "fc_b1=tf.Variable(tf.constant(0.1) , n_classes)\n",
    "y_conv=tf.matmul(flatten_layer ,fc_w1 )+fc_b1\n",
    "\n",
    "# 2개의 convolution neural network 와 1개의 fully connected_layer 로 구성\n",
    "# stride : 좌우로 몇 칸 씩 커널을 이동 할 것인지에 대한 값\n",
    "# padding : convolution 전후로 activation map 의 크기를 조정하기 위한 값 , SAME 을 입력하면 항상 convolution 전후의 크기가 같다.\n",
    "# weight : [커널의 가로크기, 커널의 세로크기, input activation map 의 채널 크기, output activiation map 의 채널 크기]\n"
   ]
  },
  {
   "cell_type": "markdown",
   "metadata": {},
   "source": [
    "# Define Functions"
   ]
  },
  {
   "cell_type": "code",
   "execution_count": 5,
   "metadata": {},
   "outputs": [
    {
     "ename": "NameError",
     "evalue": "name 'layer3' is not defined",
     "output_type": "error",
     "traceback": [
      "\u001b[0;31m---------------------------------------------------------------------------\u001b[0m",
      "\u001b[0;31mNameError\u001b[0m                                 Traceback (most recent call last)",
      "\u001b[0;32m<ipython-input-5-e63aa2e1860b>\u001b[0m in \u001b[0;36m<module>\u001b[0;34m()\u001b[0m\n\u001b[0;32m----> 1\u001b[0;31m \u001b[0mpred\u001b[0m\u001b[0;34m=\u001b[0m\u001b[0mtf\u001b[0m\u001b[0;34m.\u001b[0m\u001b[0mnn\u001b[0m\u001b[0;34m.\u001b[0m\u001b[0msoftmax\u001b[0m\u001b[0;34m(\u001b[0m\u001b[0mlayer3\u001b[0m\u001b[0;34m)\u001b[0m\u001b[0;34m\u001b[0m\u001b[0m\n\u001b[0m\u001b[1;32m      2\u001b[0m \u001b[0mcost\u001b[0m \u001b[0;34m=\u001b[0m \u001b[0mtf\u001b[0m\u001b[0;34m.\u001b[0m\u001b[0mreduce_mean\u001b[0m\u001b[0;34m(\u001b[0m\u001b[0mtf\u001b[0m\u001b[0;34m.\u001b[0m\u001b[0mnn\u001b[0m\u001b[0;34m.\u001b[0m\u001b[0msoftmax_cross_entropy_with_logits\u001b[0m\u001b[0;34m(\u001b[0m\u001b[0mlogits\u001b[0m\u001b[0;34m=\u001b[0m \u001b[0mpred\u001b[0m \u001b[0;34m,\u001b[0m \u001b[0mlabels\u001b[0m\u001b[0;34m=\u001b[0m\u001b[0my_\u001b[0m\u001b[0;34m)\u001b[0m \u001b[0;34m,\u001b[0m \u001b[0mname\u001b[0m\u001b[0;34m=\u001b[0m\u001b[0;34m'cost'\u001b[0m\u001b[0;34m)\u001b[0m\u001b[0;34m\u001b[0m\u001b[0m\n\u001b[1;32m      3\u001b[0m \u001b[0mtrain\u001b[0m\u001b[0;34m=\u001b[0m\u001b[0mtf\u001b[0m\u001b[0;34m.\u001b[0m\u001b[0mtrain\u001b[0m\u001b[0;34m.\u001b[0m\u001b[0mGradientDescentOptimizer\u001b[0m\u001b[0;34m(\u001b[0m\u001b[0mlearning_rate\u001b[0m\u001b[0;34m=\u001b[0m\u001b[0mlearning_rate\u001b[0m\u001b[0;34m)\u001b[0m\u001b[0;34m.\u001b[0m\u001b[0mminimize\u001b[0m\u001b[0;34m(\u001b[0m\u001b[0mcost\u001b[0m\u001b[0;34m,\u001b[0m\u001b[0mname\u001b[0m\u001b[0;34m=\u001b[0m\u001b[0;34m'train'\u001b[0m\u001b[0;34m)\u001b[0m\u001b[0;34m\u001b[0m\u001b[0m\n\u001b[1;32m      4\u001b[0m \u001b[0mcorrect_pred\u001b[0m \u001b[0;34m=\u001b[0m \u001b[0mtf\u001b[0m\u001b[0;34m.\u001b[0m\u001b[0mequal\u001b[0m\u001b[0;34m(\u001b[0m\u001b[0mtf\u001b[0m\u001b[0;34m.\u001b[0m\u001b[0margmax\u001b[0m\u001b[0;34m(\u001b[0m\u001b[0mpred\u001b[0m\u001b[0;34m,\u001b[0m \u001b[0;36m1\u001b[0m\u001b[0;34m)\u001b[0m\u001b[0;34m,\u001b[0m \u001b[0mtf\u001b[0m\u001b[0;34m.\u001b[0m\u001b[0margmax\u001b[0m\u001b[0;34m(\u001b[0m\u001b[0my_\u001b[0m\u001b[0;34m,\u001b[0m \u001b[0;36m1\u001b[0m\u001b[0;34m)\u001b[0m\u001b[0;34m,\u001b[0m \u001b[0mname\u001b[0m\u001b[0;34m=\u001b[0m\u001b[0;34m'correct_pred'\u001b[0m\u001b[0;34m)\u001b[0m\u001b[0;34m\u001b[0m\u001b[0m\n\u001b[1;32m      5\u001b[0m \u001b[0maccuracy\u001b[0m \u001b[0;34m=\u001b[0m \u001b[0mtf\u001b[0m\u001b[0;34m.\u001b[0m\u001b[0mreduce_mean\u001b[0m\u001b[0;34m(\u001b[0m\u001b[0mtf\u001b[0m\u001b[0;34m.\u001b[0m\u001b[0mcast\u001b[0m\u001b[0;34m(\u001b[0m\u001b[0mcorrect_pred\u001b[0m\u001b[0;34m,\u001b[0m \u001b[0mdtype\u001b[0m\u001b[0;34m=\u001b[0m\u001b[0mtf\u001b[0m\u001b[0;34m.\u001b[0m\u001b[0mfloat32\u001b[0m\u001b[0;34m)\u001b[0m\u001b[0;34m,\u001b[0m \u001b[0mname\u001b[0m\u001b[0;34m=\u001b[0m\u001b[0;34m'accuracy'\u001b[0m\u001b[0;34m)\u001b[0m\u001b[0;34m\u001b[0m\u001b[0m\n",
      "\u001b[0;31mNameError\u001b[0m: name 'layer3' is not defined"
     ]
    }
   ],
   "source": [
    "pred=tf.nn.softmax(y_conv)\n",
    "cost = tf.reduce_mean(tf.nn.softmax_cross_entropy_with_logits(logits= pred , labels=y_) , name='cost')\n",
    "train=tf.train.GradientDescentOptimizer(learning_rate=learning_rate).minimize(cost,name='train')\n",
    "correct_pred = tf.equal(tf.argmax(pred, 1), tf.argmax(y_, 1), name='correct_pred')\n",
    "accuracy = tf.reduce_mean(tf.cast(correct_pred, dtype=tf.float32), name='accuracy')\n",
    "\n",
    "# softmax : 결과값을 각 class 에 해당하는 확률값을로 리턴\n",
    "# softmax_cross_entropy_with_logits : 실제 정답인 onehot vector 와 예측값 pred 를 차이를 cross_entropy 로 계산\n",
    "# tf.train.GradientDescentOptimizer : cost 가 최소와 되도록 weight를 조정하는 함수\n",
    "# accuracy : 실제 값과 예측값의 일치률"
   ]
  },
  {
   "cell_type": "markdown",
   "metadata": {},
   "source": [
    "# Training"
   ]
  },
  {
   "cell_type": "code",
   "execution_count": null,
   "metadata": {},
   "outputs": [],
   "source": [
    "sess=tf.Session()\n",
    "init=tf.global_variables_initializer()\n",
    "sess.run(init)\n",
    "saver = tf.train.Saver()\n",
    "\n",
    "batch_iteration = 100    \n",
    "training_epochs = 2000\n",
    "\n",
    "train_cost_list = []\n",
    "test_cost_list = []\n",
    "train_acc_list = []\n",
    "test_acc_list = []\n",
    "\n",
    "# Tensorflow 학습을 위한 session 정의\n",
    "# saver : 학습한 weight 와 graph 를 저장\n",
    "\n",
    "# sess.run 을 통해 함수를 실행 , feed_dict 는 placeholder 에 들어갈 값\n",
    "\n",
    "\n",
    "for epoch in range(training_epochs):\n",
    "    \n",
    "    train_avg_cost = 0.\n",
    "    train_avg_acc = 0.\n",
    "    test_avg_cost = 0.\n",
    "    test_avg_acc = 0.\n",
    "    \n",
    "    for batch in range(batch_iteration) :\n",
    "        batch_xs , batch_ys = next_batch(train_imgs , train_labs , 60)\n",
    "        \n",
    "        sess.run(train, feed_dict={x_:batch_xs , y_ : batch_ys})\n",
    "        train_avg_cost += sess.run(cost, feed_dict={x_:batch_xs , y_ : batch_ys})\n",
    "        train_avg_acc += sess.run(accuracy, feed_dict={x_:batch_xs , y_ : batch_ys})\n",
    "        \n",
    "    train_avg_cost = train_avg_cost / batch_iteration\n",
    "    train_avg_acc = train_avg_acc / batch_iteration\n",
    "    \n",
    "    test_avg_cost = sess.run(cost, feed_dict={x_: test_imgs, y_: test_labs})\n",
    "    test_avg_acc = sess.run(accuracy, feed_dict={x_: test_imgs, y_: test_labs})\n",
    "    \n",
    "    \n",
    "    print \"##################################\"\n",
    "    print (\"Epoch: %03d/%03d train cost: %.4f\" % (epoch, training_epochs, train_avg_cost))\n",
    "    print (\"Epoch: %03d/%03d train acc: %.4f\" % (epoch, training_epochs, train_avg_acc))\n",
    "    print (\"Epoch: %03d/%03d test cost: %.4f\" % (epoch, training_epochs, test_avg_cost))\n",
    "    print (\"Epoch: %03d/%03d test acc: %.4f\" % (epoch, training_epochs, test_avg_acc))    \n",
    "    \n",
    "    train_cost_list.append(train_avg_cost)\n",
    "    test_cost_list.append(test_avg_cost)\n",
    "    train_acc_list.append(train_avg_acc)\n",
    "    test_acc_list.append(train_avg_acc)\n",
    "   \n",
    "    \n",
    "    \n",
    "saver.save(sess, \"model/cifar_convolution.ckpt\")\n",
    "\n",
    "with open('cost_acc/cifar_convolution_train_cost', 'wb') as fp:\n",
    "    pickle.dump(train_avg_cost, fp)\n",
    "with open('cost_acc/cifar_convolution_test_cost', 'wb') as fp:\n",
    "    pickle.dump(test_avg_cost, fp)\n",
    "with open('cost_acc/cifar_convolution_train_acc', 'wb') as fp:\n",
    "    pickle.dump(train_avg_acc, fp)\n",
    "with open('cost_acc/cifar_convolution_test_acc', 'wb') as fp:\n",
    "    pickle.dump(test_avg_acc, fp)\n",
    "    "
   ]
  },
  {
   "cell_type": "code",
   "execution_count": null,
   "metadata": {
    "collapsed": true
   },
   "outputs": [],
   "source": []
  }
 ],
 "metadata": {
  "kernelspec": {
   "display_name": "Python 2",
   "language": "python",
   "name": "python2"
  },
  "language_info": {
   "codemirror_mode": {
    "name": "ipython",
    "version": 2
   },
   "file_extension": ".py",
   "mimetype": "text/x-python",
   "name": "python",
   "nbconvert_exporter": "python",
   "pygments_lexer": "ipython2",
   "version": "2.7.12"
  }
 },
 "nbformat": 4,
 "nbformat_minor": 1
}
