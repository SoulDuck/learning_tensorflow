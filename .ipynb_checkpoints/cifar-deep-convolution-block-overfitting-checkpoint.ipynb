{
 "cells": [
  {
   "cell_type": "markdown",
   "metadata": {},
   "source": [
    "# Package Load"
   ]
  },
  {
   "cell_type": "code",
   "execution_count": 1,
   "metadata": {
    "collapsed": true
   },
   "outputs": [],
   "source": [
    "import preprocessing\n",
    "import tensorflow as tf\n",
    "import numpy as np\n",
    "import random\n",
    "import sys\n",
    "import utils\n",
    "import pickle\n",
    "\n",
    "# preprocessing : 이미지 파일로 존재하는 데이터를 numpy와 onehotencoding 라벨로 바꿔주는 모듈\n",
    "# tensorflow : 텐서플로우 , 일반적으로 tf로 줄여서 사용\n",
    "# numpy : fundamental package for scientific computing with Python\n",
    "# pickle : python 의 데이터 형식을 그대로 저장하기 위한 파이썬 기본 패키지\n"
   ]
  },
  {
   "cell_type": "markdown",
   "metadata": {},
   "source": [
    "# Image Loading"
   ]
  },
  {
   "cell_type": "code",
   "execution_count": 2,
   "metadata": {
    "collapsed": true
   },
   "outputs": [],
   "source": [
    "train_imgs , train_labs , test_imgs , test_labs=preprocessing.get_cifar_data()\n",
    "\n",
    "def next_batch(imgs , labs , batch_size):\n",
    "    indices=random.sample(range(len(imgs)) , batch_size)\n",
    "    batch_xs=imgs[indices]\n",
    "    for x,index in zip(batch_xs,range(len(batch_xs))) :\n",
    "        \n",
    "        r = random.random()\n",
    "        if r > 0.5 :\n",
    "            batch_xs[index] = np.fliplr(x)\n",
    "    batch_ys=labs[indices]\n",
    "    return batch_xs , batch_ys\n",
    "\n",
    "# preprocessing 모듈에서 train_imgs , train_labs , test_imgs , test_labs 를 불러 온다.\n",
    "# fully connected 모델을 위해 32x32x3 크기의 이미지를 3072 으로 reshape 한다.\n",
    "# next_batch 함수는 batch_size 수 만큼 random 으로 추출하여 train batch 를 생성하는 함수\n"
   ]
  },
  {
   "cell_type": "markdown",
   "metadata": {},
   "source": [
    "# Set Placeholder And Variables"
   ]
  },
  {
   "cell_type": "code",
   "execution_count": 3,
   "metadata": {
    "collapsed": true
   },
   "outputs": [],
   "source": [
    "\n",
    "height = 32\n",
    "width = 32\n",
    "color_ch=3\n",
    "n_classes = 10\n",
    "learning_rate=0.001\n",
    "max_iter=10000\n",
    "check_point=100\n",
    "x_ =tf.placeholder(tf.float32, [ None , height , width , color_ch ])\n",
    "y_ =tf.placeholder( tf.int32 , [ None , n_classes ])\n",
    "\n",
    "p_keep_conv = tf.placeholder(tf.float32,name=\"p_keep_conv\")\n",
    "\n",
    "# Placeholder 는 차후에 입력할 값\n",
    "# Variables 는 weight 로 학습시 변하는 값\n"
   ]
  },
  {
   "cell_type": "markdown",
   "metadata": {},
   "source": [
    "# Network Modeling"
   ]
  },
  {
   "cell_type": "code",
   "execution_count": 4,
   "metadata": {
    "collapsed": true
   },
   "outputs": [],
   "source": [
    "out_ch=28\n",
    "w1=tf.get_variable(\"w1\" , [7,7,color_ch , out_ch] , initializer=tf.contrib.layers.xavier_initializer())\n",
    "b1=tf.Variable(tf.constant(0.1) ,out_ch)\n",
    "s1=[1,1,1,1]\n",
    "p1='SAME'\n",
    "layer1=tf.nn.conv2d(x_ , w1 , s1 , p1 )+b1\n",
    "layer1=tf.nn.relu(layer1)\n",
    "\n",
    "\n",
    "out_ch2=64\n",
    "w2=tf.get_variable(\"w2\" , [5,5,out_ch, out_ch2] , initializer=tf.contrib.layers.xavier_initializer())\n",
    "b2=tf.Variable(tf.constant(0.1) ,out_ch2)\n",
    "s2=[1,1,1,1]\n",
    "layer2=tf.nn.conv2d(layer1, w2 , s2, padding='SAME')+b2\n",
    "layer2=tf.nn.relu(layer2)\n",
    "\n",
    "\n",
    "pool_s = [1,2,2,1]\n",
    "layer3 = tf.nn.max_pool(layer2, ksize=[1, 2, 2, 1], strides=pool_s, padding='SAME')\n",
    "layer3 = tf.nn.dropout(layer3, p_keep_conv)\n",
    "\n",
    "\n",
    "out_ch3=128\n",
    "w3=tf.get_variable(\"w3\" , [5,5,out_ch2, out_ch3] , initializer=tf.contrib.layers.xavier_initializer())\n",
    "b3=tf.Variable(tf.constant(0.1) ,out_ch3)\n",
    "s3=[1,1,1,1]\n",
    "layer4=tf.nn.conv2d(layer3, w3 , s3, padding='SAME')+b3\n",
    "layer4=tf.nn.relu(layer4)\n",
    "\n",
    "out_ch4=128\n",
    "w4=tf.get_variable(\"w4\" , [5,5,out_ch3, out_ch4] , initializer=tf.contrib.layers.xavier_initializer())\n",
    "b4=tf.Variable(tf.constant(0.1) ,out_ch4)\n",
    "s4=[1,1,1,1]\n",
    "layer4=tf.nn.conv2d(layer4, w4 , s4, padding='SAME')+b4\n",
    "layer4=tf.nn.relu(layer4)\n",
    "\n",
    "layer5 = tf.nn.max_pool(layer4, ksize=[1, 2, 2, 1], strides=pool_s, padding='SAME')\n",
    "layer5 = tf.nn.dropout(layer5, p_keep_conv)\n",
    "\n",
    "#fully connected layer = affine layer\n",
    "\n",
    "end_conv_layer=layer5\n",
    "flatten_layer=tf.contrib.layers.flatten(end_conv_layer)\n",
    "length=flatten_layer.get_shape()[1]\n",
    "fc_w1=tf.get_variable(\"fc_w1\" ,[length,n_classes])\n",
    "fc_b1=tf.Variable(tf.constant(0.1) , n_classes)\n",
    "y_conv=tf.matmul(flatten_layer ,fc_w1 )+fc_b1\n",
    "\n",
    "# 4개의 convolution neural network 와 1개의 fully connected_layer 로 구성\n",
    "# 2개의 convolution layer 를 거친 후 각 각 max pooling 적용 / max pooling 후에는 activation map 의 가로 세로 크기가 절반이 된다.\n",
    "# stride : 좌우로 몇 칸 씩 커널을 이동 할 것인지에 대한 값\n",
    "# padding : convolution 전후로 activation map 의 크기를 조정하기 위한 값 , SAME 을 입력하면 항상 convolution 전후의 크기가 같다.\n",
    "# weight : [커널의 가로크기, 커널의 세로크기, input activation map 의 채널 크기, output activiation map 의 채널 크기]\n"
   ]
  },
  {
   "cell_type": "markdown",
   "metadata": {},
   "source": [
    "# Define Functions"
   ]
  },
  {
   "cell_type": "code",
   "execution_count": 5,
   "metadata": {
    "collapsed": true
   },
   "outputs": [],
   "source": [
    "pred=tf.nn.softmax(y_conv)\n",
    "cost = tf.reduce_mean(tf.nn.softmax_cross_entropy_with_logits(logits= pred , labels=y_) , name='cost')\n",
    "train=tf.train.GradientDescentOptimizer(learning_rate=learning_rate).minimize(cost,name='train')\n",
    "correct_pred = tf.equal(tf.argmax(pred, 1), tf.argmax(y_, 1), name='correct_pred')\n",
    "accuracy = tf.reduce_mean(tf.cast(correct_pred, dtype=tf.float32), name='accuracy')\n",
    "\n",
    "# softmax : 결과값을 각 class 에 해당하는 확률값을로 리턴\n",
    "# softmax_cross_entropy_with_logits : 실제 정답인 onehot vector 와 예측값 pred 를 차이를 cross_entropy 로 계산\n",
    "# tf.train.GradientDescentOptimizer : cost 가 최소와 되도록 weight를 조정하는 함수\n",
    "# accuracy : 실제 값과 예측값의 일치률"
   ]
  },
  {
   "cell_type": "markdown",
   "metadata": {},
   "source": [
    "# Training"
   ]
  },
  {
   "cell_type": "code",
   "execution_count": 6,
   "metadata": {},
   "outputs": [
    {
     "ename": "InvalidArgumentError",
     "evalue": "You must feed a value for placeholder tensor 'p_keep_conv' with dtype float\n\t [[Node: p_keep_conv = Placeholder[dtype=DT_FLOAT, shape=<unknown>, _device=\"/job:localhost/replica:0/task:0/gpu:0\"]()]]\n\nCaused by op u'p_keep_conv', defined at:\n  File \"/usr/lib/python2.7/runpy.py\", line 174, in _run_module_as_main\n    \"__main__\", fname, loader, pkg_name)\n  File \"/usr/lib/python2.7/runpy.py\", line 72, in _run_code\n    exec code in run_globals\n  File \"/usr/local/lib/python2.7/dist-packages/ipykernel_launcher.py\", line 16, in <module>\n    app.launch_new_instance()\n  File \"/usr/local/lib/python2.7/dist-packages/traitlets/config/application.py\", line 658, in launch_instance\n    app.start()\n  File \"/usr/local/lib/python2.7/dist-packages/ipykernel/kernelapp.py\", line 477, in start\n    ioloop.IOLoop.instance().start()\n  File \"/usr/local/lib/python2.7/dist-packages/zmq/eventloop/ioloop.py\", line 177, in start\n    super(ZMQIOLoop, self).start()\n  File \"/usr/local/lib/python2.7/dist-packages/tornado/ioloop.py\", line 888, in start\n    handler_func(fd_obj, events)\n  File \"/usr/local/lib/python2.7/dist-packages/tornado/stack_context.py\", line 277, in null_wrapper\n    return fn(*args, **kwargs)\n  File \"/usr/local/lib/python2.7/dist-packages/zmq/eventloop/zmqstream.py\", line 440, in _handle_events\n    self._handle_recv()\n  File \"/usr/local/lib/python2.7/dist-packages/zmq/eventloop/zmqstream.py\", line 472, in _handle_recv\n    self._run_callback(callback, msg)\n  File \"/usr/local/lib/python2.7/dist-packages/zmq/eventloop/zmqstream.py\", line 414, in _run_callback\n    callback(*args, **kwargs)\n  File \"/usr/local/lib/python2.7/dist-packages/tornado/stack_context.py\", line 277, in null_wrapper\n    return fn(*args, **kwargs)\n  File \"/usr/local/lib/python2.7/dist-packages/ipykernel/kernelbase.py\", line 283, in dispatcher\n    return self.dispatch_shell(stream, msg)\n  File \"/usr/local/lib/python2.7/dist-packages/ipykernel/kernelbase.py\", line 235, in dispatch_shell\n    handler(stream, idents, msg)\n  File \"/usr/local/lib/python2.7/dist-packages/ipykernel/kernelbase.py\", line 399, in execute_request\n    user_expressions, allow_stdin)\n  File \"/usr/local/lib/python2.7/dist-packages/ipykernel/ipkernel.py\", line 196, in do_execute\n    res = shell.run_cell(code, store_history=store_history, silent=silent)\n  File \"/usr/local/lib/python2.7/dist-packages/ipykernel/zmqshell.py\", line 533, in run_cell\n    return super(ZMQInteractiveShell, self).run_cell(*args, **kwargs)\n  File \"/usr/local/lib/python2.7/dist-packages/IPython/core/interactiveshell.py\", line 2717, in run_cell\n    interactivity=interactivity, compiler=compiler, result=result)\n  File \"/usr/local/lib/python2.7/dist-packages/IPython/core/interactiveshell.py\", line 2821, in run_ast_nodes\n    if self.run_code(code, result):\n  File \"/usr/local/lib/python2.7/dist-packages/IPython/core/interactiveshell.py\", line 2881, in run_code\n    exec(code_obj, self.user_global_ns, self.user_ns)\n  File \"<ipython-input-3-1a7bd0edf3a1>\", line 12, in <module>\n    p_keep_conv = tf.placeholder(tf.float32,name=\"p_keep_conv\")\n  File \"/usr/local/lib/python2.7/dist-packages/tensorflow/python/ops/array_ops.py\", line 1530, in placeholder\n    return gen_array_ops._placeholder(dtype=dtype, shape=shape, name=name)\n  File \"/usr/local/lib/python2.7/dist-packages/tensorflow/python/ops/gen_array_ops.py\", line 1954, in _placeholder\n    name=name)\n  File \"/usr/local/lib/python2.7/dist-packages/tensorflow/python/framework/op_def_library.py\", line 767, in apply_op\n    op_def=op_def)\n  File \"/usr/local/lib/python2.7/dist-packages/tensorflow/python/framework/ops.py\", line 2506, in create_op\n    original_op=self._default_original_op, op_def=op_def)\n  File \"/usr/local/lib/python2.7/dist-packages/tensorflow/python/framework/ops.py\", line 1269, in __init__\n    self._traceback = _extract_stack()\n\nInvalidArgumentError (see above for traceback): You must feed a value for placeholder tensor 'p_keep_conv' with dtype float\n\t [[Node: p_keep_conv = Placeholder[dtype=DT_FLOAT, shape=<unknown>, _device=\"/job:localhost/replica:0/task:0/gpu:0\"]()]]\n",
     "output_type": "error",
     "traceback": [
      "\u001b[0;31m---------------------------------------------------------------------------\u001b[0m",
      "\u001b[0;31mInvalidArgumentError\u001b[0m                      Traceback (most recent call last)",
      "\u001b[0;32m<ipython-input-6-2791c2a56d97>\u001b[0m in \u001b[0;36m<module>\u001b[0;34m()\u001b[0m\n\u001b[1;32m     28\u001b[0m         \u001b[0mbatch_xs\u001b[0m \u001b[0;34m,\u001b[0m \u001b[0mbatch_ys\u001b[0m \u001b[0;34m=\u001b[0m \u001b[0mnext_batch\u001b[0m\u001b[0;34m(\u001b[0m\u001b[0mtrain_imgs\u001b[0m \u001b[0;34m,\u001b[0m \u001b[0mtrain_labs\u001b[0m \u001b[0;34m,\u001b[0m \u001b[0;36m60\u001b[0m\u001b[0;34m)\u001b[0m\u001b[0;34m\u001b[0m\u001b[0m\n\u001b[1;32m     29\u001b[0m \u001b[0;34m\u001b[0m\u001b[0m\n\u001b[0;32m---> 30\u001b[0;31m         \u001b[0msess\u001b[0m\u001b[0;34m.\u001b[0m\u001b[0mrun\u001b[0m\u001b[0;34m(\u001b[0m\u001b[0mtrain\u001b[0m\u001b[0;34m,\u001b[0m \u001b[0mfeed_dict\u001b[0m\u001b[0;34m=\u001b[0m\u001b[0;34m{\u001b[0m\u001b[0mx_\u001b[0m\u001b[0;34m:\u001b[0m\u001b[0mbatch_xs\u001b[0m \u001b[0;34m,\u001b[0m \u001b[0my_\u001b[0m \u001b[0;34m:\u001b[0m \u001b[0mbatch_ys\u001b[0m\u001b[0;34m}\u001b[0m\u001b[0;34m)\u001b[0m\u001b[0;34m\u001b[0m\u001b[0m\n\u001b[0m\u001b[1;32m     31\u001b[0m         \u001b[0mtrain_avg_cost\u001b[0m \u001b[0;34m+=\u001b[0m \u001b[0msess\u001b[0m\u001b[0;34m.\u001b[0m\u001b[0mrun\u001b[0m\u001b[0;34m(\u001b[0m\u001b[0mcost\u001b[0m\u001b[0;34m,\u001b[0m \u001b[0mfeed_dict\u001b[0m\u001b[0;34m=\u001b[0m\u001b[0;34m{\u001b[0m\u001b[0mx_\u001b[0m\u001b[0;34m:\u001b[0m\u001b[0mbatch_xs\u001b[0m \u001b[0;34m,\u001b[0m \u001b[0my_\u001b[0m \u001b[0;34m:\u001b[0m \u001b[0mbatch_ys\u001b[0m\u001b[0;34m}\u001b[0m\u001b[0;34m)\u001b[0m\u001b[0;34m\u001b[0m\u001b[0m\n\u001b[1;32m     32\u001b[0m         \u001b[0mtrain_avg_acc\u001b[0m \u001b[0;34m+=\u001b[0m \u001b[0msess\u001b[0m\u001b[0;34m.\u001b[0m\u001b[0mrun\u001b[0m\u001b[0;34m(\u001b[0m\u001b[0maccuracy\u001b[0m\u001b[0;34m,\u001b[0m \u001b[0mfeed_dict\u001b[0m\u001b[0;34m=\u001b[0m\u001b[0;34m{\u001b[0m\u001b[0mx_\u001b[0m\u001b[0;34m:\u001b[0m\u001b[0mbatch_xs\u001b[0m \u001b[0;34m,\u001b[0m \u001b[0my_\u001b[0m \u001b[0;34m:\u001b[0m \u001b[0mbatch_ys\u001b[0m\u001b[0;34m}\u001b[0m\u001b[0;34m)\u001b[0m\u001b[0;34m\u001b[0m\u001b[0m\n",
      "\u001b[0;32m/usr/local/lib/python2.7/dist-packages/tensorflow/python/client/session.pyc\u001b[0m in \u001b[0;36mrun\u001b[0;34m(self, fetches, feed_dict, options, run_metadata)\u001b[0m\n\u001b[1;32m    787\u001b[0m     \u001b[0;32mtry\u001b[0m\u001b[0;34m:\u001b[0m\u001b[0;34m\u001b[0m\u001b[0m\n\u001b[1;32m    788\u001b[0m       result = self._run(None, fetches, feed_dict, options_ptr,\n\u001b[0;32m--> 789\u001b[0;31m                          run_metadata_ptr)\n\u001b[0m\u001b[1;32m    790\u001b[0m       \u001b[0;32mif\u001b[0m \u001b[0mrun_metadata\u001b[0m\u001b[0;34m:\u001b[0m\u001b[0;34m\u001b[0m\u001b[0m\n\u001b[1;32m    791\u001b[0m         \u001b[0mproto_data\u001b[0m \u001b[0;34m=\u001b[0m \u001b[0mtf_session\u001b[0m\u001b[0;34m.\u001b[0m\u001b[0mTF_GetBuffer\u001b[0m\u001b[0;34m(\u001b[0m\u001b[0mrun_metadata_ptr\u001b[0m\u001b[0;34m)\u001b[0m\u001b[0;34m\u001b[0m\u001b[0m\n",
      "\u001b[0;32m/usr/local/lib/python2.7/dist-packages/tensorflow/python/client/session.pyc\u001b[0m in \u001b[0;36m_run\u001b[0;34m(self, handle, fetches, feed_dict, options, run_metadata)\u001b[0m\n\u001b[1;32m    995\u001b[0m     \u001b[0;32mif\u001b[0m \u001b[0mfinal_fetches\u001b[0m \u001b[0;32mor\u001b[0m \u001b[0mfinal_targets\u001b[0m\u001b[0;34m:\u001b[0m\u001b[0;34m\u001b[0m\u001b[0m\n\u001b[1;32m    996\u001b[0m       results = self._do_run(handle, final_targets, final_fetches,\n\u001b[0;32m--> 997\u001b[0;31m                              feed_dict_string, options, run_metadata)\n\u001b[0m\u001b[1;32m    998\u001b[0m     \u001b[0;32melse\u001b[0m\u001b[0;34m:\u001b[0m\u001b[0;34m\u001b[0m\u001b[0m\n\u001b[1;32m    999\u001b[0m       \u001b[0mresults\u001b[0m \u001b[0;34m=\u001b[0m \u001b[0;34m[\u001b[0m\u001b[0;34m]\u001b[0m\u001b[0;34m\u001b[0m\u001b[0m\n",
      "\u001b[0;32m/usr/local/lib/python2.7/dist-packages/tensorflow/python/client/session.pyc\u001b[0m in \u001b[0;36m_do_run\u001b[0;34m(self, handle, target_list, fetch_list, feed_dict, options, run_metadata)\u001b[0m\n\u001b[1;32m   1130\u001b[0m     \u001b[0;32mif\u001b[0m \u001b[0mhandle\u001b[0m \u001b[0;32mis\u001b[0m \u001b[0mNone\u001b[0m\u001b[0;34m:\u001b[0m\u001b[0;34m\u001b[0m\u001b[0m\n\u001b[1;32m   1131\u001b[0m       return self._do_call(_run_fn, self._session, feed_dict, fetch_list,\n\u001b[0;32m-> 1132\u001b[0;31m                            target_list, options, run_metadata)\n\u001b[0m\u001b[1;32m   1133\u001b[0m     \u001b[0;32melse\u001b[0m\u001b[0;34m:\u001b[0m\u001b[0;34m\u001b[0m\u001b[0m\n\u001b[1;32m   1134\u001b[0m       return self._do_call(_prun_fn, self._session, handle, feed_dict,\n",
      "\u001b[0;32m/usr/local/lib/python2.7/dist-packages/tensorflow/python/client/session.pyc\u001b[0m in \u001b[0;36m_do_call\u001b[0;34m(self, fn, *args)\u001b[0m\n\u001b[1;32m   1150\u001b[0m         \u001b[0;32mexcept\u001b[0m \u001b[0mKeyError\u001b[0m\u001b[0;34m:\u001b[0m\u001b[0;34m\u001b[0m\u001b[0m\n\u001b[1;32m   1151\u001b[0m           \u001b[0;32mpass\u001b[0m\u001b[0;34m\u001b[0m\u001b[0m\n\u001b[0;32m-> 1152\u001b[0;31m       \u001b[0;32mraise\u001b[0m \u001b[0mtype\u001b[0m\u001b[0;34m(\u001b[0m\u001b[0me\u001b[0m\u001b[0;34m)\u001b[0m\u001b[0;34m(\u001b[0m\u001b[0mnode_def\u001b[0m\u001b[0;34m,\u001b[0m \u001b[0mop\u001b[0m\u001b[0;34m,\u001b[0m \u001b[0mmessage\u001b[0m\u001b[0;34m)\u001b[0m\u001b[0;34m\u001b[0m\u001b[0m\n\u001b[0m\u001b[1;32m   1153\u001b[0m \u001b[0;34m\u001b[0m\u001b[0m\n\u001b[1;32m   1154\u001b[0m   \u001b[0;32mdef\u001b[0m \u001b[0m_extend_graph\u001b[0m\u001b[0;34m(\u001b[0m\u001b[0mself\u001b[0m\u001b[0;34m)\u001b[0m\u001b[0;34m:\u001b[0m\u001b[0;34m\u001b[0m\u001b[0m\n",
      "\u001b[0;31mInvalidArgumentError\u001b[0m: You must feed a value for placeholder tensor 'p_keep_conv' with dtype float\n\t [[Node: p_keep_conv = Placeholder[dtype=DT_FLOAT, shape=<unknown>, _device=\"/job:localhost/replica:0/task:0/gpu:0\"]()]]\n\nCaused by op u'p_keep_conv', defined at:\n  File \"/usr/lib/python2.7/runpy.py\", line 174, in _run_module_as_main\n    \"__main__\", fname, loader, pkg_name)\n  File \"/usr/lib/python2.7/runpy.py\", line 72, in _run_code\n    exec code in run_globals\n  File \"/usr/local/lib/python2.7/dist-packages/ipykernel_launcher.py\", line 16, in <module>\n    app.launch_new_instance()\n  File \"/usr/local/lib/python2.7/dist-packages/traitlets/config/application.py\", line 658, in launch_instance\n    app.start()\n  File \"/usr/local/lib/python2.7/dist-packages/ipykernel/kernelapp.py\", line 477, in start\n    ioloop.IOLoop.instance().start()\n  File \"/usr/local/lib/python2.7/dist-packages/zmq/eventloop/ioloop.py\", line 177, in start\n    super(ZMQIOLoop, self).start()\n  File \"/usr/local/lib/python2.7/dist-packages/tornado/ioloop.py\", line 888, in start\n    handler_func(fd_obj, events)\n  File \"/usr/local/lib/python2.7/dist-packages/tornado/stack_context.py\", line 277, in null_wrapper\n    return fn(*args, **kwargs)\n  File \"/usr/local/lib/python2.7/dist-packages/zmq/eventloop/zmqstream.py\", line 440, in _handle_events\n    self._handle_recv()\n  File \"/usr/local/lib/python2.7/dist-packages/zmq/eventloop/zmqstream.py\", line 472, in _handle_recv\n    self._run_callback(callback, msg)\n  File \"/usr/local/lib/python2.7/dist-packages/zmq/eventloop/zmqstream.py\", line 414, in _run_callback\n    callback(*args, **kwargs)\n  File \"/usr/local/lib/python2.7/dist-packages/tornado/stack_context.py\", line 277, in null_wrapper\n    return fn(*args, **kwargs)\n  File \"/usr/local/lib/python2.7/dist-packages/ipykernel/kernelbase.py\", line 283, in dispatcher\n    return self.dispatch_shell(stream, msg)\n  File \"/usr/local/lib/python2.7/dist-packages/ipykernel/kernelbase.py\", line 235, in dispatch_shell\n    handler(stream, idents, msg)\n  File \"/usr/local/lib/python2.7/dist-packages/ipykernel/kernelbase.py\", line 399, in execute_request\n    user_expressions, allow_stdin)\n  File \"/usr/local/lib/python2.7/dist-packages/ipykernel/ipkernel.py\", line 196, in do_execute\n    res = shell.run_cell(code, store_history=store_history, silent=silent)\n  File \"/usr/local/lib/python2.7/dist-packages/ipykernel/zmqshell.py\", line 533, in run_cell\n    return super(ZMQInteractiveShell, self).run_cell(*args, **kwargs)\n  File \"/usr/local/lib/python2.7/dist-packages/IPython/core/interactiveshell.py\", line 2717, in run_cell\n    interactivity=interactivity, compiler=compiler, result=result)\n  File \"/usr/local/lib/python2.7/dist-packages/IPython/core/interactiveshell.py\", line 2821, in run_ast_nodes\n    if self.run_code(code, result):\n  File \"/usr/local/lib/python2.7/dist-packages/IPython/core/interactiveshell.py\", line 2881, in run_code\n    exec(code_obj, self.user_global_ns, self.user_ns)\n  File \"<ipython-input-3-1a7bd0edf3a1>\", line 12, in <module>\n    p_keep_conv = tf.placeholder(tf.float32,name=\"p_keep_conv\")\n  File \"/usr/local/lib/python2.7/dist-packages/tensorflow/python/ops/array_ops.py\", line 1530, in placeholder\n    return gen_array_ops._placeholder(dtype=dtype, shape=shape, name=name)\n  File \"/usr/local/lib/python2.7/dist-packages/tensorflow/python/ops/gen_array_ops.py\", line 1954, in _placeholder\n    name=name)\n  File \"/usr/local/lib/python2.7/dist-packages/tensorflow/python/framework/op_def_library.py\", line 767, in apply_op\n    op_def=op_def)\n  File \"/usr/local/lib/python2.7/dist-packages/tensorflow/python/framework/ops.py\", line 2506, in create_op\n    original_op=self._default_original_op, op_def=op_def)\n  File \"/usr/local/lib/python2.7/dist-packages/tensorflow/python/framework/ops.py\", line 1269, in __init__\n    self._traceback = _extract_stack()\n\nInvalidArgumentError (see above for traceback): You must feed a value for placeholder tensor 'p_keep_conv' with dtype float\n\t [[Node: p_keep_conv = Placeholder[dtype=DT_FLOAT, shape=<unknown>, _device=\"/job:localhost/replica:0/task:0/gpu:0\"]()]]\n"
     ]
    }
   ],
   "source": [
    "sess=tf.Session()\n",
    "init=tf.global_variables_initializer()\n",
    "sess.run(init)\n",
    "saver = tf.train.Saver()\n",
    "\n",
    "batch_iteration = 100    \n",
    "training_epochs = 2000\n",
    "\n",
    "train_cost_list = []\n",
    "test_cost_list = []\n",
    "train_acc_list = []\n",
    "test_acc_list = []\n",
    "\n",
    "# Tensorflow 학습을 위한 session 정의\n",
    "# saver : 학습한 weight 와 graph 를 저장\n",
    "\n",
    "# sess.run 을 통해 함수를 실행 , feed_dict 는 placeholder 에 들어갈 값\n",
    "\n",
    "\n",
    "for epoch in range(training_epochs):\n",
    "    \n",
    "    train_avg_cost = 0.\n",
    "    train_avg_acc = 0.\n",
    "    test_avg_cost = 0.\n",
    "    test_avg_acc = 0.\n",
    "    \n",
    "    for batch in range(batch_iteration) :\n",
    "        batch_xs , batch_ys = next_batch(train_imgs , train_labs , 60)\n",
    "        \n",
    "        sess.run(train, feed_dict={x_:batch_xs , y_ : batch_ys,p_keep_conv:0.7})\n",
    "        train_avg_cost += sess.run(cost, feed_dict={x_:batch_xs , y_ : batch_ys,p_keep_conv:1.0})\n",
    "        train_avg_acc += sess.run(accuracy, feed_dict={x_:batch_xs , y_ : batch_ys,p_keep_conv:1.0})\n",
    "        \n",
    "    train_avg_cost = train_avg_cost / batch_iteration\n",
    "    train_avg_acc = train_avg_acc / batch_iteration\n",
    "    \n",
    "    test_avg_cost = sess.run(cost, feed_dict={x_: test_imgs, y_: test_labs,p_keep_conv:1.0})\n",
    "    test_avg_acc = sess.run(accuracy, feed_dict={x_: test_imgs, y_: test_labs,p_keep_conv:1.0})\n",
    "    \n",
    "    \n",
    "    print \"##################################\"\n",
    "    print (\"Epoch: %03d/%03d train cost: %.4f\" % (epoch, training_epochs, train_avg_cost))\n",
    "    print (\"Epoch: %03d/%03d train acc: %.4f\" % (epoch, training_epochs, train_avg_acc))\n",
    "    print (\"Epoch: %03d/%03d test cost: %.4f\" % (epoch, training_epochs, test_avg_cost))\n",
    "    print (\"Epoch: %03d/%03d test acc: %.4f\" % (epoch, training_epochs, test_avg_acc))    \n",
    "    \n",
    "    train_cost_list.append(train_avg_cost)\n",
    "    test_cost_list.append(test_avg_cost)\n",
    "    train_acc_list.append(train_avg_acc)\n",
    "    test_acc_list.append(train_avg_acc)\n",
    "   \n",
    "    \n",
    "    \n",
    "saver.save(sess, \"model/cifar_deep_convolution.ckpt\")\n",
    "\n",
    "with open('cost_acc/cifar_deep_convolution_train_cost', 'wb') as fp:\n",
    "    pickle.dump(train_avg_cost, fp)\n",
    "with open('cost_acc/cifar_deep_convolution_test_cost', 'wb') as fp:\n",
    "    pickle.dump(test_avg_cost, fp)\n",
    "with open('cost_acc/cifar_deep_convolution_train_acc', 'wb') as fp:\n",
    "    pickle.dump(train_avg_acc, fp)\n",
    "with open('cost_acc/cifar_deep_convolution_test_acc', 'wb') as fp:\n",
    "    pickle.dump(test_avg_acc, fp)\n",
    "    "
   ]
  },
  {
   "cell_type": "code",
   "execution_count": null,
   "metadata": {
    "collapsed": true
   },
   "outputs": [],
   "source": []
  }
 ],
 "metadata": {
  "kernelspec": {
   "display_name": "Python 2",
   "language": "python",
   "name": "python2"
  },
  "language_info": {
   "codemirror_mode": {
    "name": "ipython",
    "version": 2
   },
   "file_extension": ".py",
   "mimetype": "text/x-python",
   "name": "python",
   "nbconvert_exporter": "python",
   "pygments_lexer": "ipython2",
   "version": "2.7.12"
  }
 },
 "nbformat": 4,
 "nbformat_minor": 1
}
