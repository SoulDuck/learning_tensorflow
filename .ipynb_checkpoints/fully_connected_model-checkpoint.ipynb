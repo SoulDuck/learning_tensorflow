{
 "cells": [
  {
   "cell_type": "markdown",
   "metadata": {},
   "source": [
    "# Package Load"
   ]
  },
  {
   "cell_type": "code",
   "execution_count": 45,
   "metadata": {
    "collapsed": true
   },
   "outputs": [],
   "source": [
    "import tensorflow as tf\n",
    "import numpy as np\n",
    "from PIL import Image\n",
    "from preprocessing import *"
   ]
  },
  {
   "cell_type": "markdown",
   "metadata": {},
   "source": [
    "# Image Loading"
   ]
  },
  {
   "cell_type": "code",
   "execution_count": 47,
   "metadata": {},
   "outputs": [
    {
     "ename": "NameError",
     "evalue": "name 'get_cifar' is not defined",
     "output_type": "error",
     "traceback": [
      "\u001b[0;31m---------------------------------------------------------------------------\u001b[0m",
      "\u001b[0;31mNameError\u001b[0m                                 Traceback (most recent call last)",
      "\u001b[0;32m<ipython-input-47-626c3df3e5be>\u001b[0m in \u001b[0;36m<module>\u001b[0;34m()\u001b[0m\n\u001b[0;32m----> 1\u001b[0;31m \u001b[0mtrain_imgs\u001b[0m\u001b[0;34m,\u001b[0m \u001b[0mtrain_labs\u001b[0m\u001b[0;34m,\u001b[0m \u001b[0mtest_imgs\u001b[0m\u001b[0;34m,\u001b[0m \u001b[0mtest_labs\u001b[0m\u001b[0;34m=\u001b[0m\u001b[0mget_cifar\u001b[0m\u001b[0;34m(\u001b[0m\u001b[0;34m)\u001b[0m\u001b[0;34m\u001b[0m\u001b[0m\n\u001b[0m",
      "\u001b[0;31mNameError\u001b[0m: name 'get_cifar' is not defined"
     ]
    }
   ],
   "source": [
    "train_imgs, train_labs, test_imgs, test_labs=get_cifar()\n"
   ]
  },
  {
   "cell_type": "markdown",
   "metadata": {},
   "source": [
    "# Set Placeholder And Variables"
   ]
  },
  {
   "cell_type": "code",
   "execution_count": 38,
   "metadata": {},
   "outputs": [],
   "source": [
    "X = tf.placeholder(\"float\", [None, 1024*3],name=\"x\")\n",
    "Y = tf.placeholder(\"float\", [None, 10],name=\"y\")\n",
    "\n",
    "weight1 = tf.Variable(tf.random_normal([32*32*3,1024], stddev=0.01),name=\"weight1\")\n",
    "weight2 = tf.Variable(tf.random_normal([1024,10], stddev=0.01),name=\"weight2\")\n",
    "\n",
    "bais1 = tf.Variable(tf.random_normal([1024], stddev=0.01),name=\"bias1\")\n",
    "bais2 = tf.Variable(tf.random_normal([10], stddev=0.01),name=\"bias2\")"
   ]
  },
  {
   "cell_type": "markdown",
   "metadata": {},
   "source": [
    "placeholder 는 차후에 입력할 값을 미리 설정\n"
   ]
  },
  {
   "cell_type": "markdown",
   "metadata": {},
   "source": [
    "variables 는 학습시에 변하는 weights 값"
   ]
  },
  {
   "cell_type": "markdown",
   "metadata": {},
   "source": [
    "# Network Modeling"
   ]
  },
  {
   "cell_type": "code",
   "execution_count": 40,
   "metadata": {},
   "outputs": [
    {
     "name": "stdout",
     "output_type": "stream",
     "text": [
      "(?, 10)\n"
     ]
    }
   ],
   "source": [
    "layer1 = tf.add(tf.matmul(X,weight1),bais1)\n",
    "\n",
    "layer2 = tf.add(tf.matmul(layer1,weight2),bais2)"
   ]
  },
  {
   "cell_type": "markdown",
   "metadata": {},
   "source": [
    "# Define Functions"
   ]
  },
  {
   "cell_type": "code",
   "execution_count": 44,
   "metadata": {},
   "outputs": [],
   "source": [
    "pred = tf.nn.softmax(layer2)\n",
    "\n",
    "cost = tf.reduce_mean(tf.nn.softmax_cross_entropy_with_logits(logits = pred,labels = Y))\n",
    "\n",
    "optm = tf.train.AdamOptimizer(learning_rate=0.01).minimize(cost) \n",
    "#optm = tf.train.GradientDescentOptimizer(learning_rate=0.01).minimize(cost)\n",
    "#optm = tf.train.MomentumOptimizer(learning_rate=0.01).minimize(cost)\n",
    "\n",
    "corr = tf.equal(tf.argmax(pred, 1), tf.argmax(y, 1))    \n",
    "accr = tf.reduce_mean(tf.cast(corr, \"float\"))\n"
   ]
  },
  {
   "cell_type": "markdown",
   "metadata": {},
   "source": [
    "pred : Neural Network 를 거쳐 나온 값을 클래스에 해당 하는 확률로 변환\n",
    "\n",
    "cost : 실제 값과 예측값의 차이를 cross entropy 로 표현\n",
    "\n",
    "optm : cost 를 최소화하기 위한 optimizer 다양한 optimizer 가 존재\n",
    "\n",
    "corr,accr : 실제값과 예측값의 일치률을 계산"
   ]
  },
  {
   "cell_type": "code",
   "execution_count": null,
   "metadata": {
    "collapsed": true
   },
   "outputs": [],
   "source": [
    "training_epochs = 20\n",
    "batch_size      = 100\n",
    "display_step    = 4\n",
    "\n",
    "for epoch in range(training_epochs):\n",
    "    "
   ]
  }
 ],
 "metadata": {
  "kernelspec": {
   "display_name": "Python 2",
   "language": "python",
   "name": "python2"
  },
  "language_info": {
   "codemirror_mode": {
    "name": "ipython",
    "version": 2
   },
   "file_extension": ".py",
   "mimetype": "text/x-python",
   "name": "python",
   "nbconvert_exporter": "python",
   "pygments_lexer": "ipython2",
   "version": "2.7.12"
  }
 },
 "nbformat": 4,
 "nbformat_minor": 2
}
