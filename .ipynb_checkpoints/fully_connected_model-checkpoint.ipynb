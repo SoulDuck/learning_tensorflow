{
 "cells": [
  {
   "cell_type": "markdown",
   "metadata": {},
   "source": [
    "# Package Load"
   ]
  },
  {
   "cell_type": "code",
   "execution_count": 29,
   "metadata": {
    "collapsed": true
   },
   "outputs": [],
   "source": [
    "import tensorflow as tf\n",
    "import numpy as np\n",
    "from PIL import Image\n"
   ]
  },
  {
   "cell_type": "markdown",
   "metadata": {},
   "source": [
    "# Image Loading"
   ]
  },
  {
   "cell_type": "code",
   "execution_count": 30,
   "metadata": {},
   "outputs": [],
   "source": [
    "image1 = Image.open(\"train/1.png\")\n",
    "image2 = Image.open(\"train/100.png\")\n",
    "x = np.array([np.array(image) / float(255),np.array(image2)/ float(255)])\n",
    "\n",
    "x = np.reshape(x , (2,32*32*3))\n",
    "y = [[1,0,0,0,0,0,0,0,0,0],[0,1,0,0,0,0,0,0,0,0]]\n"
   ]
  },
  {
   "cell_type": "markdown",
   "metadata": {},
   "source": [
    "# Set Placeholder And Variables"
   ]
  },
  {
   "cell_type": "code",
   "execution_count": 38,
   "metadata": {},
   "outputs": [],
   "source": [
    "X = tf.placeholder(\"float\", [None, 1024*3],name=\"x\")\n",
    "Y = tf.placeholder(\"float\", [None, 10],name=\"y\")\n",
    "\n",
    "weight1 = tf.Variable(tf.random_normal([32*32*3,1024], stddev=0.01),name=\"weight1\")\n",
    "weight2 = tf.Variable(tf.random_normal([1024,10], stddev=0.01),name=\"weight2\")\n",
    "\n",
    "bais1 = tf.Variable(tf.random_normal([1024], stddev=0.01),name=\"bias1\")\n",
    "bais2 = tf.Variable(tf.random_normal([10], stddev=0.01),name=\"bias2\")"
   ]
  },
  {
   "cell_type": "markdown",
   "metadata": {},
   "source": [
    "placeholder 는 차후에 입력할 값을 미리 설정\n"
   ]
  },
  {
   "cell_type": "markdown",
   "metadata": {},
   "source": [
    "variables 는 학습시에 변하는 weights 값"
   ]
  },
  {
   "cell_type": "markdown",
   "metadata": {},
   "source": [
    "# Network Modeling"
   ]
  },
  {
   "cell_type": "code",
   "execution_count": 40,
   "metadata": {},
   "outputs": [
    {
     "name": "stdout",
     "output_type": "stream",
     "text": [
      "(?, 10)\n"
     ]
    }
   ],
   "source": [
    "layer1 = tf.add(tf.matmul(X,weight1),bais1)\n",
    "\n",
    "layer2 = tf.add(tf.matmul(layer1,weight2),bais2)"
   ]
  },
  {
   "cell_type": "markdown",
   "metadata": {},
   "source": [
    "# Define Functions"
   ]
  },
  {
   "cell_type": "code",
   "execution_count": 43,
   "metadata": {},
   "outputs": [],
   "source": [
    "pred = tf.nn.softmax(layer2)\n",
    "\n",
    "cost = tf.reduce_mean(tf.nn.softmax_cross_entropy_with_logits(logits = pred,labels = Y))\n",
    "\n",
    "optm = tf.train.AdamOptimizer(learning_rate=0.01).minimize(cost) \n",
    "#optm = tf.train.GradientDescentOptimizer(learning_rate=0.01).minimize(cost)\n",
    "#optm = tf.train.MomentumOptimizer(learning_rate=0.01).minimize(cost)\n",
    "\n",
    "corr = tf.equal(tf.argmax(pred, 1), tf.argmax(y, 1))    \n",
    "accr = tf.reduce_mean(tf.cast(corr, \"float\"))\n"
   ]
  },
  {
   "cell_type": "code",
   "execution_count": null,
   "metadata": {
    "collapsed": true
   },
   "outputs": [],
   "source": []
  }
 ],
 "metadata": {
  "kernelspec": {
   "display_name": "Python 2",
   "language": "python",
   "name": "python2"
  },
  "language_info": {
   "codemirror_mode": {
    "name": "ipython",
    "version": 2
   },
   "file_extension": ".py",
   "mimetype": "text/x-python",
   "name": "python",
   "nbconvert_exporter": "python",
   "pygments_lexer": "ipython2",
   "version": "2.7.12"
  }
 },
 "nbformat": 4,
 "nbformat_minor": 2
}
