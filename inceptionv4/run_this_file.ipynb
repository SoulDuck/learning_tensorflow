{
 "cells": [
  {
   "cell_type": "code",
   "execution_count": null,
   "metadata": {
    "collapsed": true
   },
   "outputs": [],
   "source": [
    "import tensorflow as tf\n",
    "import inceptionv4\n",
    "import cnn\n",
    "\n",
    "x_ = tf.placeholder(dtype=tf.float32, shape=[None, image_height, image_width, image_color_ch], name='x_')\n",
    "y_ = tf.placeholder(dtype=tf.int32, shape=[None, n_classes], name='y_')\n",
    "phase_train = tf.placeholder(dtype=tf.bool, name='phase_train')\n",
    "##########################structure##########################\n",
    "if structure == 'inception_A':\n",
    "    top_conv=inception_v4.structure_A(x_)\n",
    "elif structure == 'inception_B':\n",
    "    top_conv = inception_v4.structure_B(x_ , phase_train)\n",
    "\n",
    "y_conv = gap('gap', top_conv, 2)\n",
    "cam_ = cam.get_class_map('gap', top_conv, 0, image_height)\n",
    "#################fully connected#############################\n",
    "\"\"\"\n",
    "layer=tf.contrib.layers.flatten(layer)\n",
    "print layer.get_shape()\n",
    "layer = affine('fully_connect', layer, 1024 ,keep_prob=0.5)\n",
    "y_conv=affine('end_layer' , layer , n_classes , keep_prob=1.0)\n",
    "\"\"\"\n",
    "#############################################################\n",
    "# cam = get_class_map('gap', top_conv, 0, im_width=image_width)\n",
    "pred, pred_cls, cost, train_op, correct_pred, accuracy = algorithm(y_conv, y_, learning_rate , optimizer)\n",
    "saver = tf.train.Saver()\n",
    "config = tf.ConfigProto(\n",
    "    device_count={'GPU': 1},\n",
    "    log_device_placement=True\n",
    ")"
   ]
  }
 ],
 "metadata": {
  "kernelspec": {
   "display_name": "Python 2",
   "language": "python",
   "name": "python2"
  },
  "language_info": {
   "codemirror_mode": {
    "name": "ipython",
    "version": 2.0
   },
   "file_extension": ".py",
   "mimetype": "text/x-python",
   "name": "python",
   "nbconvert_exporter": "python",
   "pygments_lexer": "ipython2",
   "version": "2.7.6"
  }
 },
 "nbformat": 4,
 "nbformat_minor": 0
}