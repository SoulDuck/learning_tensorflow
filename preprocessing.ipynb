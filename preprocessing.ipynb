{
 "cells": [
  {
   "cell_type": "code",
   "execution_count": 20,
   "metadata": {
    "collapsed": true
   },
   "outputs": [],
   "source": [
    "import tensorflow as tf \n",
    "import PIL\n",
    "from PIL import Image\n",
    "import numpy as np\n",
    "import glob\n",
    "import sys,os"
   ]
  },
  {
   "cell_type": "code",
   "execution_count": 10,
   "metadata": {},
   "outputs": [],
   "source": [
    "img_png=Image.open('./sample.png')\n",
    "img_jpg=Image.open('./sample.jpg')"
   ]
  },
  {
   "cell_type": "code",
   "execution_count": 40,
   "metadata": {},
   "outputs": [],
   "source": [
    "data_path = \"data/CIFAR-10/\"\n",
    "debug_lv0=False\n",
    "def img2str(img):\n",
    "    if type(img) == str:\n",
    "        img=Image.open(img)\n",
    "    if not type(img).__module__ == np.__name__:\n",
    "        if __debug__ ==debug_lv0:\n",
    "            print 'input image type is not numpy , type was changed to numpy'\n",
    "        img=np.asarray(img)\n",
    "        str_=img.reshape([-1])\n",
    "        if __debug__ ==debug_lv0:\n",
    "            print 'image shape:',np.shape(img)\n",
    "            print 'str length :',len(str_)\n",
    "        return str_"
   ]
  },
  {
   "cell_type": "code",
   "execution_count": 41,
   "metadata": {},
   "outputs": [
    {
     "name": "stdout",
     "output_type": "stream",
     "text": [
      "(1000, 3072)\n"
     ]
    }
   ],
   "source": [
    "paths=glob.glob('./train/*.png')\n",
    "#images=map(Image.open, paths)\n",
    "strings_=map(img2str , paths[:1000])\n",
    "print np.shape(strings_)\n"
   ]
  },
  {
   "cell_type": "code",
   "execution_count": null,
   "metadata": {
    "collapsed": true
   },
   "outputs": [],
   "source": []
  }
 ],
 "metadata": {
  "kernelspec": {
   "display_name": "Python 2",
   "language": "python",
   "name": "python2"
  },
  "language_info": {
   "codemirror_mode": {
    "name": "ipython",
    "version": 2
   },
   "file_extension": ".py",
   "mimetype": "text/x-python",
   "name": "python",
   "nbconvert_exporter": "python",
   "pygments_lexer": "ipython2",
   "version": "2.7.13"
  }
 },
 "nbformat": 4,
 "nbformat_minor": 2
}
